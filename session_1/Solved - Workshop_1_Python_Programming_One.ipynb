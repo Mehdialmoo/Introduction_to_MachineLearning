{
 "cells": [
  {
   "cell_type": "markdown",
   "id": "70c1dcd9",
   "metadata": {},
   "source": [
    "# Workshop 1: Python Programming"
   ]
  },
  {
   "cell_type": "markdown",
   "id": "f67a606a",
   "metadata": {},
   "source": [
    "## 1. Variables\n",
    "a. Python has no command for declaring a variable. A variable is created the moment you first assign a value to it.\n",
    "\n",
    "b. Variables do not need to be declared with any particular type, and can even change type after they have been set.\n",
    "\n",
    "### 1.1 Name of variable\n",
    "The following identifiers are keywords in python and must not be used as names of variable:\n",
    "\n",
    "`False` `await` `else`  `import`  `pass`       `None`       `break`      `except`     `in`         `raise`\n",
    "`True`      `class`      `finally`    `is`         `return`     `and`        `continue`   `for`       `lambda`     `try`\n",
    "`as`         `def`        `from`       `nonlocal`   `while`      `assert`     `del`        `global`     `not`        `with`\n",
    "`async`      `elif`       `if`         `or`         `yield`\n",
    "#### Exercise 1. Which of the following identifiers can be used as a name of variable?\n",
    "(1) `MyVariableName`\n",
    "\n",
    "(2) `Computer Animation`\n",
    "\n",
    "(3) `Bournemouth_University`\n",
    "\n",
    "(4) `The_United_Kingdom_Bournemouth_Talbot`\n",
    "\n",
    "(5) `Artificial-Intelligence-for-Media`\n",
    "\n",
    "(6) `2nd_Output_Number`\n",
    "\n",
    "(7) `Output_Number_2`\n",
    "\n",
    "(8) `You_&_I`\n",
    "\n",
    "(9) `false`\n",
    "\n",
    "(10) `class`\n",
    "\n",
    "(11) `False_or_True`\n",
    "\n",
    "(12) `_`\n",
    "\n",
    "(13) `😃`\n",
    "\n",
    "### 1.2 Value of variable\n",
    "`Variable Name = Variable Value`"
   ]
  },
  {
   "cell_type": "code",
   "execution_count": 17,
   "id": "a0ddf57f",
   "metadata": {},
   "outputs": [],
   "source": [
    "Age = 25\n",
    "Weight = 87.5\n",
    "Name = \"Tom Hanks\"\n",
    "Famous = True"
   ]
  },
  {
   "cell_type": "markdown",
   "id": "503dcaf7",
   "metadata": {},
   "source": [
    "#### Exercise 2. Please run the following items respectively, and figure out which item is uncorrect."
   ]
  },
  {
   "cell_type": "code",
   "execution_count": 18,
   "id": "735a11a8",
   "metadata": {},
   "outputs": [
    {
     "name": "stdout",
     "output_type": "stream",
     "text": [
      "a=1,b=2\n"
     ]
    }
   ],
   "source": [
    "a=1\n",
    "b=2\n",
    "print(f\"a={a},b={b}\")"
   ]
  },
  {
   "cell_type": "code",
   "execution_count": 19,
   "id": "535d0a58",
   "metadata": {},
   "outputs": [],
   "source": [
    "# a=1,b=2  wrong one"
   ]
  },
  {
   "cell_type": "code",
   "execution_count": 20,
   "id": "13994ece",
   "metadata": {},
   "outputs": [
    {
     "name": "stdout",
     "output_type": "stream",
     "text": [
      "a=1,b=2\n"
     ]
    }
   ],
   "source": [
    "a,b=1,2\n",
    "print(f\"a={a},b={b}\")"
   ]
  },
  {
   "cell_type": "code",
   "execution_count": 21,
   "id": "1ca17368",
   "metadata": {},
   "outputs": [
    {
     "name": "stdout",
     "output_type": "stream",
     "text": [
      "a=1,b=1\n"
     ]
    }
   ],
   "source": [
    "a=b=1\n",
    "print(f\"a={a},b={b}\")"
   ]
  },
  {
   "cell_type": "markdown",
   "id": "577bfe2c",
   "metadata": {},
   "source": [
    "#### Exercise 3. Given two variables `a` and `b` (give them any value you like), could you design a script to swap the value of them? (e.g. before: `a=1 b=2`, after `a=2 b=1`)"
   ]
  },
  {
   "cell_type": "code",
   "execution_count": 22,
   "id": "cd7870e5",
   "metadata": {},
   "outputs": [
    {
     "name": "stdout",
     "output_type": "stream",
     "text": [
      "a=1,b=2\n",
      " after replacing : a=2,b=1\n"
     ]
    }
   ],
   "source": [
    "a=1\n",
    "b=2\n",
    "print(f\"a={a},b={b}\")\n",
    "temp=a\n",
    "a=b\n",
    "b=temp\n",
    "print(f\" after replacing : a={a},b={b}\")"
   ]
  },
  {
   "cell_type": "code",
   "execution_count": 23,
   "metadata": {},
   "outputs": [
    {
     "name": "stdout",
     "output_type": "stream",
     "text": [
      "a=1,b=2\n",
      " after replacing : a=2,b=1\n"
     ]
    }
   ],
   "source": [
    "a=1\n",
    "b=2\n",
    "print(f\"a={a},b={b}\")\n",
    "a,b = b,a\n",
    "print(f\" after replacing : a={a},b={b}\")"
   ]
  },
  {
   "cell_type": "markdown",
   "id": "59b72a68",
   "metadata": {},
   "source": [
    "## 2. Data Type\n",
    "a. Python has 5 standard data types: numbers, string, list, tuple, dictionary.\n",
    "\n",
    "b. The `type()` function returns the type of the specified object.\n",
    "### 2.1 Numbers\n",
    "integer, float, complex"
   ]
  },
  {
   "cell_type": "code",
   "execution_count": 24,
   "id": "a2f7463d",
   "metadata": {},
   "outputs": [
    {
     "name": "stdout",
     "output_type": "stream",
     "text": [
      "<class 'complex'>\n",
      "<class 'int'>\n",
      "<class 'str'>\n",
      "<class 'float'>\n"
     ]
    }
   ],
   "source": [
    "print(type(0+5j))\n",
    "print(type(5))\n",
    "print(type(\"hello\"))\n",
    "print(type(3.14))"
   ]
  },
  {
   "cell_type": "markdown",
   "id": "9114ded7",
   "metadata": {},
   "source": [
    "#### Operations on numbers\n",
    "`x+y`: sum of x and y\n",
    "\n",
    "`x-y`: difference of x and y\n",
    "\n",
    "`x*y`: product of x and y\n",
    "\n",
    "`x/y`: quotient of x and y\n",
    "\n",
    "`x//y`: floored quotient of x and y\n",
    "\n",
    "`-x`: x negated\n",
    "\n",
    "`x%y`: remainder of dividing x by y\n",
    "\n",
    "`x**y`: x to the power y"
   ]
  },
  {
   "cell_type": "code",
   "execution_count": 25,
   "id": "41cfff3c",
   "metadata": {},
   "outputs": [
    {
     "name": "stdout",
     "output_type": "stream",
     "text": [
      "x+y=7\n",
      "x-y=-1\n",
      "x/y=0.75\n",
      "x//y=0\n",
      "x%y=3\n",
      "x**y=81\n"
     ]
    }
   ],
   "source": [
    "x,y = 3,4\n",
    "print(f\"x+y={x+y}\")\n",
    "print(f\"x-y={x-y}\")\n",
    "print(f\"x/y={x/y}\")\n",
    "print(f\"x//y={x//y}\")\n",
    "print(f\"x%y={x%y}\")\n",
    "print(f\"x**y={x**y}\")"
   ]
  },
  {
   "cell_type": "markdown",
   "id": "41d0201e",
   "metadata": {},
   "source": [
    "#### Exercise 4. Please design a script to compute the value of the following determinant.\n",
    "$$\n",
    "\\left|\\begin{array}{cc} \n",
    "a & b\\\\\n",
    "c & d\n",
    "\\end{array}\\right|\n",
    "$$ "
   ]
  },
  {
   "cell_type": "code",
   "execution_count": 26,
   "id": "fe2f7459",
   "metadata": {},
   "outputs": [
    {
     "name": "stdout",
     "output_type": "stream",
     "text": [
      "-2\n"
     ]
    }
   ],
   "source": [
    "a,b,c,d=1,2,3,4\n",
    "print(a*d-c*b)"
   ]
  },
  {
   "cell_type": "markdown",
   "id": "a3d02aa9",
   "metadata": {},
   "source": [
    "#### Exercise 5. Based on Exercise 3, could you design a script to swap the value of `a` and `b` without create new memory space? "
   ]
  },
  {
   "cell_type": "code",
   "execution_count": 27,
   "id": "93b129e3",
   "metadata": {},
   "outputs": [
    {
     "name": "stdout",
     "output_type": "stream",
     "text": [
      "2 1\n"
     ]
    }
   ],
   "source": [
    "a=1\n",
    "b=2\n",
    "a,b=b,a\n",
    "print (a,b)"
   ]
  },
  {
   "cell_type": "markdown",
   "id": "e7498fe7",
   "metadata": {},
   "source": [
    "#### Exercise 6. Given a number in range (100, 1000), could you design a script to output the number of each bit?"
   ]
  },
  {
   "cell_type": "code",
   "execution_count": 28,
   "id": "7a2ba541",
   "metadata": {},
   "outputs": [
    {
     "name": "stdout",
     "output_type": "stream",
     "text": [
      "2,5,6\n"
     ]
    }
   ],
   "source": [
    "inpt= int(input(\"please enter a 3 digit number:\"))\n",
    "print(inpt//100,end=\",\")\n",
    "print((inpt//10)%10,end=\",\")\n",
    "print(inpt%10)"
   ]
  },
  {
   "cell_type": "markdown",
   "id": "321dc48c",
   "metadata": {},
   "source": [
    "### 2.2 Strings\n",
    "a. Python allows for either pairs of single or double quotes.\n",
    "\n",
    "b. Subsets of strings can be taken using the slice operator (`[ ]`and `[ : ]` ) with indexes starting at 0 in the beginning of the string and working their way from -1 at the end.\n",
    "\n",
    "c. The plus ( `+` ) sign is the string concatenation operator.\n",
    "\n",
    "d. `.split()` is used to split the string at the specified separator, and returns a list.\n",
    "\n",
    "More string methods can be found at https://www.w3schools.com/python/python_strings_methods.asp\n"
   ]
  },
  {
   "cell_type": "code",
   "execution_count": 29,
   "id": "7821986c",
   "metadata": {},
   "outputs": [
    {
     "name": "stdout",
     "output_type": "stream",
     "text": [
      "Hello Python, I love Python!\n"
     ]
    }
   ],
   "source": [
    "myStr_1 = \"Hello Python!\"\n",
    "myStr_2 = \"I love Python!\"\n",
    "\n",
    "#print(myStr_1[:-1] +\", \"+ myStr_2)\n",
    "print(f\"{myStr_1[:-1]}, {myStr_2}\")"
   ]
  },
  {
   "cell_type": "markdown",
   "id": "53bd7a09",
   "metadata": {},
   "source": [
    "#### Exercise 7. Please concatenate the following given strings and separate it into word list (No punctuations)"
   ]
  },
  {
   "cell_type": "code",
   "execution_count": 30,
   "id": "d58e09d9",
   "metadata": {},
   "outputs": [],
   "source": [
    "str_1 = \"Archaeologists believe that Stonehenge was constructed from around 3000 BC to 2000 BC.\"\n",
    "str_2 = \"The surrounding circular earth bank and ditch have been dated to about 3100 BC.\""
   ]
  },
  {
   "cell_type": "code",
   "execution_count": 31,
   "id": "25b73f66",
   "metadata": {},
   "outputs": [
    {
     "name": "stdout",
     "output_type": "stream",
     "text": [
      "Archaeologists believe that Stonehenge was constructed from around 3000 BC to 2000 BC, The surrounding circular earth bank and ditch have been dated to about 3100 BC.\n"
     ]
    }
   ],
   "source": [
    "#print (str_1[:-1] +\", \" +str_2)\n",
    "print(f\"{str_1[:-1]}, {str_2}\")"
   ]
  }
 ],
 "metadata": {
  "kernelspec": {
   "display_name": "Python 3 (ipykernel)",
   "language": "python",
   "name": "python3"
  },
  "language_info": {
   "codemirror_mode": {
    "name": "ipython",
    "version": 3
   },
   "file_extension": ".py",
   "mimetype": "text/x-python",
   "name": "python",
   "nbconvert_exporter": "python",
   "pygments_lexer": "ipython3",
   "version": "3.11.4"
  }
 },
 "nbformat": 4,
 "nbformat_minor": 5
}
