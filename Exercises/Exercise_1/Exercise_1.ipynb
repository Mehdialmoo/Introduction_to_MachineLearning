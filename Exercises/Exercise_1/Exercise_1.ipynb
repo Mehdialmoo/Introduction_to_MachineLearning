{
 "cells": [
  {
   "cell_type": "markdown",
   "id": "42b80196",
   "metadata": {},
   "source": [
    "### Question 1. \n",
    "#### Given the 3-dimensional coordinates of two points, please design a script to compute the distance between the two points in 3-dimensional coordinate system."
   ]
  },
  {
   "cell_type": "code",
   "execution_count": 6,
   "id": "07413be0",
   "metadata": {},
   "outputs": [],
   "source": [
    "x1 = input(\"Please enter the value of x1: \")  # Point 1\n",
    "y1 = input(\"Please enter the value of y1: \")\n",
    "z1 = input(\"Please enter the value of z1: \")\n",
    "\n",
    "x2 = input(\"Please enter the value of x2: \")  # Point 2\n",
    "y2 = input(\"Please enter the value of y2: \")\n",
    "z2 = input(\"Please enter the value of z2: \")"
   ]
  },
  {
   "cell_type": "code",
   "execution_count": 7,
   "id": "1f97375e",
   "metadata": {},
   "outputs": [
    {
     "name": "stdout",
     "output_type": "stream",
     "text": [
      "5.196152422706632\n"
     ]
    }
   ],
   "source": [
    "import math as m\n",
    "XS = (int(x2)-int(x1))**2\n",
    "YS = (int(y2)-int(y1))**2\n",
    "ZS = (int(z2)-int(z1))**2\n",
    "result = m.sqrt(XS+YS+ZS)\n",
    "print(result)"
   ]
  },
  {
   "cell_type": "markdown",
   "id": "ea59afc8",
   "metadata": {},
   "source": [
    "### Question 2. \n",
    "#### Please design a script to compute the value of the following determinant.\n",
    "$$\n",
    "\\left|\\begin{array}{ccc} \n",
    "a & b & c\\\\\n",
    "d & e & f\\\\\n",
    "g & h & i\n",
    "\\end{array}\\right|\n",
    "$$ "
   ]
  },
  {
   "cell_type": "code",
   "execution_count": 14,
   "id": "744cbccd",
   "metadata": {},
   "outputs": [
    {
     "name": "stdout",
     "output_type": "stream",
     "text": [
      "your matrix is: \n",
      " [[15 20 25]\n",
      " [16 18 20]\n",
      " [ 3  9 12]]\n",
      "T matrix : 150\n"
     ]
    }
   ],
   "source": [
    "import numpy as np\n",
    "mtx = np.zeros(dtype=int, shape=(3,3))\n",
    "for i in range (3):\n",
    "    for j in range (3):\n",
    "        inpt = int(input(\"please enter a value:\"))\n",
    "        mtx[i][j]=inpt\n",
    "print (f\"your matrix is: \\n {mtx}\")\n",
    "aei = mtx[0][0] * mtx[1][1] * mtx[2][2]\n",
    "bfg = mtx[0][1] * mtx[1][2] * mtx[2][0]\n",
    "cdh = mtx[0][2] * mtx[1][0] * mtx[2][1]\n",
    "ceg = mtx[0][2] * mtx[1][1] * mtx[2][0]\n",
    "bdi = mtx[0][1] * mtx[1][0] * mtx[2][2]\n",
    "afh = mtx[0][0] * mtx[1][2] * mtx[2][1]\n",
    "determinan = (aei + bfg + cdh) - (ceg + bdi + afh)\n",
    "print (f\"T matrix : {determinan}\")\n"
   ]
  },
  {
   "cell_type": "markdown",
   "id": "eaf1366f",
   "metadata": {},
   "source": [
    "### Question 3. \n",
    "#### Given a number in range (1000, 10000), could you design a script to compute the cubic sum of each bit? (e.g. 1324 ----> 1+27+8+64 = 100)"
   ]
  },
  {
   "cell_type": "code",
   "execution_count": 19,
   "id": "aae4da16",
   "metadata": {},
   "outputs": [
    {
     "name": "stdout",
     "output_type": "stream",
     "text": [
      "100\n"
     ]
    }
   ],
   "source": [
    "val = input(\"please enter a number between 1000 and 10000 :\")\n",
    "if (1000<int(val)<10000):\n",
    "    sumation = 0\n",
    "    for indx in val:\n",
    "        sumation += (int(indx)**3)\n",
    "else:\n",
    "    print(\"you didn't enter a valid number\")  \n",
    "\n",
    "print (sumation)"
   ]
  }
 ],
 "metadata": {
  "kernelspec": {
   "display_name": "Python 3 (ipykernel)",
   "language": "python",
   "name": "python3"
  },
  "language_info": {
   "codemirror_mode": {
    "name": "ipython",
    "version": 3
   },
   "file_extension": ".py",
   "mimetype": "text/x-python",
   "name": "python",
   "nbconvert_exporter": "python",
   "pygments_lexer": "ipython3",
   "version": "3.11.4"
  }
 },
 "nbformat": 4,
 "nbformat_minor": 5
}
