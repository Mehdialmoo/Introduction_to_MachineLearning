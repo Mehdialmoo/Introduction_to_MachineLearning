{
 "cells": [
  {
   "cell_type": "markdown",
   "id": "ea59afc8",
   "metadata": {},
   "source": [
    "### Question. \n",
    "#### Given 3 numbers a, b, c. Please design a script to compute the two roots of quadratic equation.\n",
    "\n",
    "$$\n",
    "ax^2+bx+c=0\n",
    "$$ \n",
    "\n",
    "#### Formula for computing the two roots:\n",
    "\n",
    "$$\n",
    "x_1 = \\frac{-b + \\sqrt{b^2 - 4ac}}{2a}\n",
    "$$\n",
    "\n",
    "$$\n",
    "x_2 = \\frac{-b - \\sqrt{b^2 - 4ac}}{2a}\n",
    "$$"
   ]
  },
  {
   "cell_type": "code",
   "execution_count": 1,
   "id": "744cbccd",
   "metadata": {},
   "outputs": [
    {
     "ename": "SyntaxError",
     "evalue": "invalid syntax (1238796419.py, line 9)",
     "output_type": "error",
     "traceback": [
      "\u001b[1;36m  Cell \u001b[1;32mIn[1], line 9\u001b[1;36m\u001b[0m\n\u001b[1;33m    x2 =\u001b[0m\n\u001b[1;37m         ^\u001b[0m\n\u001b[1;31mSyntaxError\u001b[0m\u001b[1;31m:\u001b[0m invalid syntax\n"
     ]
    }
   ],
   "source": [
    "import math as m\n",
    "print(\"we have a function as like : \\t (ax^2)+(bx)+c=0 \\n now enter the followings:\\n\")\n",
    "a = int(input(\"a:\"))\n",
    "print()\n",
    "b = int(input(\"b:\"))\n",
    "print()\n",
    "c = int(input(\"c:\"))\n",
    "print(f\"you have a function as like : \\t ({a}x^2)+({b}x)+{c}=0 \\n\")\n",
    "delta = ((b**2)-4*a*c)\n",
    "x1 =  (-1*b + m.sqrt(delta))/(2*a)\n",
    "x2 =  (-1*b - m.sqrt(delta))/(2*a)\n",
    "print(f\"the roots are x1:{x1} and x2:{x2}\")"
   ]
  }
 ],
 "metadata": {
  "kernelspec": {
   "display_name": "Python 3 (ipykernel)",
   "language": "python",
   "name": "python3"
  },
  "language_info": {
   "codemirror_mode": {
    "name": "ipython",
    "version": 3
   },
   "file_extension": ".py",
   "mimetype": "text/x-python",
   "name": "python",
   "nbconvert_exporter": "python",
   "pygments_lexer": "ipython3",
   "version": "3.11.4"
  }
 },
 "nbformat": 4,
 "nbformat_minor": 5
}
