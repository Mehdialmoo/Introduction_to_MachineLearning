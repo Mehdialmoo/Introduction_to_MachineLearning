{
 "cells": [
  {
   "cell_type": "markdown",
   "id": "42b80196",
   "metadata": {},
   "source": [
    "### Question 1. \n",
    "#### Given 3 integers x, y, z (any value you like), please design a script to pass the value of x to z, value of y to x, value of z to y."
   ]
  },
  {
   "cell_type": "code",
   "execution_count": 3,
   "id": "07413be0",
   "metadata": {},
   "outputs": [
    {
     "name": "stdout",
     "output_type": "stream",
     "text": [
      "x=1, y=2, z=3\n"
     ]
    }
   ],
   "source": [
    "x = 1\n",
    "y = 2\n",
    "z = 3\n",
    "\n",
    "# Enter your code here\n",
    "\n",
    "print(f\"x={x}, y={y}, z={z}\")"
   ]
  },
  {
   "cell_type": "code",
   "execution_count": 4,
   "id": "03ee1040",
   "metadata": {},
   "outputs": [
    {
     "name": "stdout",
     "output_type": "stream",
     "text": [
      "x=2, y=3, z=1\n"
     ]
    }
   ],
   "source": [
    "x,y,z = 1,2,3\n",
    "\n",
    "x,y,z = y,z,x\n",
    "\n",
    "print(f\"x={x}, y={y}, z={z}\")"
   ]
  },
  {
   "cell_type": "markdown",
   "id": "ea59afc8",
   "metadata": {},
   "source": [
    "### Question 2. \n",
    "#### Please design a script to compute the result of the following matrix multiplication.\n",
    "$$\n",
    "\\left[\\begin{array}{ccc} \n",
    "a & b \\\\\n",
    "c & d \\\\\n",
    "e & f \n",
    "\\end{array}\\right]\n",
    "\\left[\\begin{array}{cc} \n",
    "g & h & i \\\\\n",
    "j & k & l \\\\\n",
    "\\end{array}\\right]\n",
    "$$ "
   ]
  },
  {
   "cell_type": "code",
   "execution_count": 3,
   "id": "744cbccd",
   "metadata": {},
   "outputs": [
    {
     "name": "stdout",
     "output_type": "stream",
     "text": [
      "your first matrix is: \n",
      " [[1 2]\n",
      " [3 4]\n",
      " [5 6]]\n",
      "your second matrix is: \n",
      " [[1 2 3]\n",
      " [4 5 6]]\n",
      "the value of the multiplication is : \n",
      " [[ 9 12 15]\n",
      " [19 26 33]\n",
      " [29 40 51]]\n"
     ]
    }
   ],
   "source": [
    "import numpy as np\n",
    "#1\n",
    "mtx_1 = np.zeros(dtype=int, shape=(3,2))\n",
    "for i in range (3):\n",
    "    for j in range (2):\n",
    "        inpt = int(input(\"please enter a value:\"))\n",
    "        mtx_1[i][j]=inpt\n",
    "print (f\"your first matrix is: \\n {mtx_1}\")\n",
    "#2\n",
    "mtx_2 = np.zeros(dtype=int, shape=(2,3))\n",
    "for i in range (2):\n",
    "    for j in range (3):\n",
    "        inpt_2 = int(input(\"please enter a value:\"))\n",
    "        mtx_2[i][j]=inpt_2\n",
    "print (f\"your second matrix is: \\n {mtx_2}\")\n",
    "\n",
    "mtx_res = np.zeros(dtype=int, shape=(3,3))\n",
    "\n",
    "mtx_res[0][0] = (mtx_1[0][0]*mtx_2[0][0])+(mtx_1[0][1]*mtx_2[1][0]) \n",
    "mtx_res[0][1] = (mtx_1[0][0]*mtx_2[0][1])+(mtx_1[0][1]*mtx_2[1][1]) \n",
    "mtx_res[0][2] = (mtx_1[0][0]*mtx_2[0][2])+(mtx_1[0][1]*mtx_2[1][2]) \n",
    "mtx_res[1][0] = (mtx_1[1][0]*mtx_2[0][0])+(mtx_1[1][1]*mtx_2[1][0]) \n",
    "mtx_res[1][1] = (mtx_1[1][0]*mtx_2[0][1])+(mtx_1[1][1]*mtx_2[1][1]) \n",
    "mtx_res[1][2] = (mtx_1[1][0]*mtx_2[0][2])+(mtx_1[1][1]*mtx_2[1][2]) \n",
    "mtx_res[2][0] = (mtx_1[2][0]*mtx_2[0][0])+(mtx_1[2][1]*mtx_2[1][0]) \n",
    "mtx_res[2][1] = (mtx_1[2][0]*mtx_2[0][1])+(mtx_1[2][1]*mtx_2[1][1]) \n",
    "mtx_res[2][2] = (mtx_1[2][0]*mtx_2[0][2])+(mtx_1[2][1]*mtx_2[1][2]) \n",
    "\n",
    "print(f\"the value of the multiplication is : \\n {mtx_res}\")\n"
   ]
  }
 ],
 "metadata": {
  "kernelspec": {
   "display_name": "Python 3 (ipykernel)",
   "language": "python",
   "name": "python3"
  },
  "language_info": {
   "codemirror_mode": {
    "name": "ipython",
    "version": 3
   },
   "file_extension": ".py",
   "mimetype": "text/x-python",
   "name": "python",
   "nbconvert_exporter": "python",
   "pygments_lexer": "ipython3",
   "version": "3.11.4"
  }
 },
 "nbformat": 4,
 "nbformat_minor": 5
}
