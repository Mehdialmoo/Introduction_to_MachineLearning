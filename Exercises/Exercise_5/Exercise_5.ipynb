{
 "cells": [
  {
   "cell_type": "markdown",
   "id": "ea59afc8",
   "metadata": {},
   "source": [
    "### Question 1. \n",
    "#### Could you use `for` loop to find the minimum element in a list"
   ]
  },
  {
   "cell_type": "code",
   "execution_count": 1,
   "id": "744cbccd",
   "metadata": {},
   "outputs": [],
   "source": [
    "number_list = [1,4,50,80,12]"
   ]
  },
  {
   "cell_type": "code",
   "execution_count": 2,
   "id": "eb07f34c",
   "metadata": {},
   "outputs": [
    {
     "name": "stdout",
     "output_type": "stream",
     "text": [
      "1\n"
     ]
    }
   ],
   "source": [
    "minimum = number_list[0]\n",
    "for num in number_list:\n",
    "    if num < minimum:\n",
    "        minimum = num\n",
    "print (minimum)"
   ]
  },
  {
   "cell_type": "markdown",
   "id": "42b80196",
   "metadata": {},
   "source": [
    "### Question 2. \n",
    "#### Given 2 integers x, y (any value you like), please design a script to calculate the Greatest Common Divisor and the Least Common Multiple of them."
   ]
  },
  {
   "cell_type": "code",
   "execution_count": 3,
   "id": "07413be0",
   "metadata": {},
   "outputs": [
    {
     "name": "stdout",
     "output_type": "stream",
     "text": [
      "GCD :5 \t LCM :175\n"
     ]
    }
   ],
   "source": [
    "#For example: a=8, b=6, the Greatest Common Divisor of them is 2 and the Least Common Multiple of them is 24.\n",
    "x = int(input(\"please enter a value for x:\"))\n",
    "y = int(input(\"please enter a value for y:\"))\n",
    "GCD = 0\n",
    "LCM = 0\n",
    "for i in range(1,min(x,y)):\n",
    "    if ((x%i == 0)and(y%i == 0)):\n",
    "        GCD = i\n",
    "for j in range(1,x*y):\n",
    "    if ((j%x==0)and(j%y==0)):\n",
    "        LCM = j\n",
    "        break\n",
    "print (f\"GCD :{GCD} \\t LCM :{LCM}\")"
   ]
  }
 ],
 "metadata": {
  "kernelspec": {
   "display_name": "Python 3 (ipykernel)",
   "language": "python",
   "name": "python3"
  },
  "language_info": {
   "codemirror_mode": {
    "name": "ipython",
    "version": 3
   },
   "file_extension": ".py",
   "mimetype": "text/x-python",
   "name": "python",
   "nbconvert_exporter": "python",
   "pygments_lexer": "ipython3",
   "version": "3.11.4"
  }
 },
 "nbformat": 4,
 "nbformat_minor": 5
}
