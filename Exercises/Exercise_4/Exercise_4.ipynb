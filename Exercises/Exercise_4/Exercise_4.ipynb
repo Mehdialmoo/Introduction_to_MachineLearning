{
 "cells": [
  {
   "cell_type": "markdown",
   "id": "23c2223f",
   "metadata": {},
   "source": [
    "### Question. \n",
    "#### Could you design a script to convert a binary number to a decimal number?"
   ]
  },
  {
   "cell_type": "code",
   "execution_count": 1,
   "id": "46474b32",
   "metadata": {},
   "outputs": [],
   "source": [
    "binary_num = 10100011"
   ]
  },
  {
   "cell_type": "code",
   "execution_count": 4,
   "id": "642b193b",
   "metadata": {},
   "outputs": [
    {
     "name": "stdout",
     "output_type": "stream",
     "text": [
      "this is the binary number 0b10100011\n",
      "this is the actual number 163\n"
     ]
    }
   ],
   "source": [
    "new_bin = \"0b\" + str(binary_num)\n",
    "print(f\"this is the binary number {new_bin}\")\n",
    "print(f\"this is the actual number {int(new_bin,2)}\")"
   ]
  }
 ],
 "metadata": {
  "kernelspec": {
   "display_name": "Python 3 (ipykernel)",
   "language": "python",
   "name": "python3"
  },
  "language_info": {
   "codemirror_mode": {
    "name": "ipython",
    "version": 3
   },
   "file_extension": ".py",
   "mimetype": "text/x-python",
   "name": "python",
   "nbconvert_exporter": "python",
   "pygments_lexer": "ipython3",
   "version": "3.11.4"
  }
 },
 "nbformat": 4,
 "nbformat_minor": 5
}
