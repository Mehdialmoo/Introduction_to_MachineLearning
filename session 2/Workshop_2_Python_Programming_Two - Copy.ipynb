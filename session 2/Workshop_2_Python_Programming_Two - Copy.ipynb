{
 "cells": [
  {
   "cell_type": "markdown",
   "id": "187e39e8",
   "metadata": {},
   "source": [
    "# Workshop 2: Python Programming (Part 2)"
   ]
  },
  {
   "cell_type": "markdown",
   "id": "6b629ec4",
   "metadata": {},
   "source": [
    "### * Warm-up exercise.\n",
    "#### Could you design a script to convert a positive integer into the format `hh:mm:ss`?"
   ]
  },
  {
   "cell_type": "code",
   "execution_count": 32,
   "id": "ae2d049a",
   "metadata": {},
   "outputs": [],
   "source": [
    "def h_M_S (num):\n",
    "    hh = (num//3600)\n",
    "    mm = (num-hh*3600)//60\n",
    "    ss = num%60\n",
    "    val = (f\"{hh}:{mm}:{ss}\")\n",
    "    return (val)\n",
    "    "
   ]
  },
  {
   "cell_type": "code",
   "execution_count": 33,
   "id": "7c5f4ea6-74d8-48e6-9bea-98744a446a34",
   "metadata": {},
   "outputs": [
    {
     "name": "stdout",
     "output_type": "stream",
     "text": [
      "12:33:56\n"
     ]
    }
   ],
   "source": [
    "print(h_M_S(45236))"
   ]
  },
  {
   "cell_type": "markdown",
   "id": "f88796be",
   "metadata": {},
   "source": [
    "## 1. Logical Operations\n",
    "### 1.1 Bool\n",
    "Booleans represent one of two values: `True` or `False`.\n",
    "\n",
    "|Python Comparison Operators|Description|\n",
    "|--------|--------|\n",
    "|==\t|equality operator returns true if values are the same|\n",
    "|!=\t|not equal operator\t|\n",
    "|>\t|Checks if the value of left operand is greater than the value of right operand\t|\n",
    "|<\t|Checks if the value of left operand is less than the value of right operand|\n",
    "|>=\t|Checks if the value of left operand is greater than or equal to the value of right operand\t|\n",
    "|<=\t|Checks if the value of left operand is less than or equal to the value of right operand|\t"
   ]
  },
  {
   "cell_type": "code",
   "execution_count": 34,
   "id": "322e330a",
   "metadata": {},
   "outputs": [
    {
     "name": "stdout",
     "output_type": "stream",
     "text": [
      "a = 1 and b = 5 So :\n",
      "a==b is False\n",
      "a>b is False\n",
      "a<b is True\n",
      "a!=b is True\n",
      "a>=b is False\n",
      "a<=b is True\n"
     ]
    }
   ],
   "source": [
    "a,b = 1,5\n",
    "print(f\"a = {a} and b = {b} So :\")\n",
    "print(f\"a==b is {a==b}\")\n",
    "print(f\"a>b is {a>b}\")\n",
    "print(f\"a<b is {a<b}\")\n",
    "print(f\"a!=b is {a!=b}\")\n",
    "print(f\"a>=b is {a>=b}\")\n",
    "print(f\"a<=b is {a<=b}\")"
   ]
  },
  {
   "cell_type": "markdown",
   "id": "9af7549f",
   "metadata": {},
   "source": [
    "### 1.2 `or` & `and` & `not`\n",
    "| Result of exp1    | Result of exp2 |Result of exp1 OR exp2 |\n",
    "| -------- | ------- |--------|\n",
    "| True |True   |True|\n",
    "| True |False  |True|\n",
    "| False|True   |True|\n",
    "| False|False  |False|\n",
    "\n",
    "| Result of exp1    | Result of exp2 |Result of exp1 AND exp2 |\n",
    "| -------- | ------- |--------|\n",
    "| True |True   |True|\n",
    "| True |False  |False|\n",
    "| False|True   |False|\n",
    "| False|False  |False|\n",
    "\n",
    "| Result of exp    | Result of NOT exp |\n",
    "| -------- | ------- |\n",
    "| True |False   |\n",
    "| False |True  |\n",
    "\n",
    "Visualization: https://kazuhikoarase.github.io/simcirjs/"
   ]
  },
  {
   "cell_type": "code",
   "execution_count": 35,
   "id": "011a44fe",
   "metadata": {},
   "outputs": [
    {
     "name": "stdout",
     "output_type": "stream",
     "text": [
      "if  we have True or False we will get True \n",
      "if  we have True or False we will get True \n",
      "if  we have True or False we will get False \n",
      "if  we have True or False we will get True \n",
      "if  we have True AND False we will get True \n",
      "if  we have True AND False we will get False \n",
      "if  we have True AND False we will get False \n",
      "if  we have True AND False we will get False \n"
     ]
    }
   ],
   "source": [
    "print(f\"if  we have True or False we will get {True or True} \")\n",
    "print(f\"if  we have True or False we will get {True or False} \")\n",
    "print(f\"if  we have True or False we will get {False or False} \")\n",
    "print(f\"if  we have True or False we will get {True or False} \")\n",
    "print(f\"if  we have True AND False we will get {True and True} \")\n",
    "print(f\"if  we have True AND False we will get {True and False} \")\n",
    "print(f\"if  we have True AND False we will get {False and True} \")\n",
    "print(f\"if  we have True AND False we will get {False and False} \")"
   ]
  },
  {
   "cell_type": "markdown",
   "id": "705cb988",
   "metadata": {},
   "source": [
    "### 1.3 Decimal and Binary\n",
    "The decimal (base ten) numeral system has ten possible values (0,1,2,3,4,5,6,7,8, or 9) for each place-value. In contrast, the binary (base two) numeral system has two possible values represented as 0 or 1 for each place-value. The binary system is the internal language of electronic computers."
   ]
  },
  {
   "cell_type": "code",
   "execution_count": 36,
   "id": "0f1b290e",
   "metadata": {},
   "outputs": [
    {
     "name": "stdout",
     "output_type": "stream",
     "text": [
      "0b101101\n"
     ]
    },
    {
     "data": {
      "text/plain": [
       "45"
      ]
     },
     "execution_count": 36,
     "metadata": {},
     "output_type": "execute_result"
    }
   ],
   "source": [
    "num = 45\n",
    "binary = bin(num)\n",
    "print(binary)\n",
    "int(binary,2)"
   ]
  },
  {
   "cell_type": "markdown",
   "id": "aa3c5460",
   "metadata": {},
   "source": [
    "## 2. Selection Structure\n",
    "The result of an if operation is a boolean (`True` / `False`) value and code is executed or not depending upon these value. In python we use the following constructs:"
   ]
  },
  {
   "cell_type": "code",
   "execution_count": 65,
   "id": "8f57c490",
   "metadata": {},
   "outputs": [
    {
     "name": "stdout",
     "output_type": "stream",
     "text": [
      "False\n"
     ]
    }
   ],
   "source": [
    "a = 1\n",
    "b = 5\n",
    "print (a == b)"
   ]
  },
  {
   "cell_type": "markdown",
   "id": "ffdf564a",
   "metadata": {},
   "source": [
    "#### Exercise 1. Given a string variable `my_str`, could you design a script to output \"`the length of the string is over 15`\" when the length of the string is greater than 15 and \"`the length of the string is under 15`\" when the length of the string is less than 15."
   ]
  },
  {
   "cell_type": "code",
   "execution_count": 37,
   "id": "8faf51b9",
   "metadata": {},
   "outputs": [],
   "source": [
    "def len_cal(string):\n",
    "    if (len((string))>=15):\n",
    "        return (f\"the length of the string is over 15\")\n",
    "    else :\n",
    "        return (f\"the length of the string is under 15\")"
   ]
  },
  {
   "cell_type": "code",
   "execution_count": 38,
   "id": "416457f5-c90c-43cd-9aa3-881d544af3db",
   "metadata": {},
   "outputs": [
    {
     "name": "stdout",
     "output_type": "stream",
     "text": [
      "the length of the string is over 15\n"
     ]
    }
   ],
   "source": [
    "my_str = \"this is boyuan's class\"\n",
    "print(len_cal(my_str))"
   ]
  },
  {
   "cell_type": "markdown",
   "id": "e8aea1aa",
   "metadata": {},
   "source": [
    "#### Exercise 2. Could you design a script to determine if a number is even or odd?"
   ]
  },
  {
   "cell_type": "code",
   "execution_count": 39,
   "id": "b0ef54ea",
   "metadata": {},
   "outputs": [],
   "source": [
    "def eve_chk(num:int):\n",
    "    return \"even\" if (num % 2)==0 else \"odd\""
   ]
  },
  {
   "cell_type": "code",
   "execution_count": 40,
   "id": "81bdb6e8-45d0-4931-91b4-979600df79e9",
   "metadata": {},
   "outputs": [
    {
     "name": "stdout",
     "output_type": "stream",
     "text": [
      "even\n"
     ]
    }
   ],
   "source": [
    "val = 222\n",
    "print(eve_chk(val)) "
   ]
  },
  {
   "cell_type": "markdown",
   "id": "e4607f62",
   "metadata": {},
   "source": [
    "#### Exercise 3. Given three numbers a, b and c, could you design a script to output the maximum of them by using if statement."
   ]
  },
  {
   "cell_type": "code",
   "execution_count": 41,
   "id": "7390b9e5",
   "metadata": {},
   "outputs": [
    {
     "name": "stdout",
     "output_type": "stream",
     "text": [
      "the maximum value is 8\n"
     ]
    }
   ],
   "source": [
    "a,b,c=4,8,2\n",
    "if ((a>=b)and(a>=c)):\n",
    "    mx=a\n",
    "elif ((b>=a)and(b>=c)):\n",
    "    mx=b\n",
    "else :\n",
    "    mx=c\n",
    "print(f\"the maximum value is {mx}\")"
   ]
  },
  {
   "cell_type": "markdown",
   "id": "053c7aab",
   "metadata": {},
   "source": [
    "#### Exercise 4. Could you design a script that takes a student's score as input and prints their grade (Distinction: 70-100, Merit: 60-70, Pass: 50-60, Fail: Under 50)"
   ]
  },
  {
   "cell_type": "code",
   "execution_count": 42,
   "id": "046edef0",
   "metadata": {},
   "outputs": [],
   "source": [
    "def grading(num):\n",
    "    if 0<num<100:\n",
    "        if 50<num<=60:\n",
    "            return (\"Pass\")\n",
    "        elif 60<num<=70:\n",
    "            return (\"Merit\")\n",
    "        elif 70<num<=100:\n",
    "            return (\"Distinction\")\n",
    "        else :\n",
    "            return (\"Fail\")\n",
    "    else:\n",
    "        return (\"not a valid value\")"
   ]
  },
  {
   "cell_type": "code",
   "execution_count": 43,
   "id": "3205c5aa-9e80-4047-8a4c-767732d5bb5d",
   "metadata": {},
   "outputs": [
    {
     "name": "stdout",
     "output_type": "stream",
     "text": [
      "Distinction\n"
     ]
    }
   ],
   "source": [
    "print(grading(78))"
   ]
  },
  {
   "cell_type": "markdown",
   "id": "940e1e38",
   "metadata": {},
   "source": [
    "#### Exercise 5. Could you design a script that checks if a given year is a leap year or not. Leap years are divisible by 4, but not by 100 unless they are divisible by 400."
   ]
  },
  {
   "cell_type": "code",
   "execution_count": 44,
   "id": "9255bc40",
   "metadata": {},
   "outputs": [],
   "source": [
    "def leap_chk(val):\n",
    "    if ((val>0) and (val%4 == 0) and ((val%100 == 0) or (val%400 == 0))):\n",
    "        return (\"it's a leap year!!!!\")\n",
    "    else :\n",
    "        return (\"it's a normal year!!!\")"
   ]
  },
  {
   "cell_type": "code",
   "execution_count": 45,
   "id": "d89c89c0-85c1-431d-bda9-6148ac82380b",
   "metadata": {},
   "outputs": [
    {
     "name": "stdout",
     "output_type": "stream",
     "text": [
      "1400: it's a leap year!!!!\n",
      "1384: it's a leap year!!!!\n"
     ]
    }
   ],
   "source": [
    "print(f\"1400: {leap_chk(1400)}\")\n",
    "print(f\"1384: {leap_chk(1400)}\")"
   ]
  },
  {
   "cell_type": "markdown",
   "id": "7504c073",
   "metadata": {},
   "source": [
    "## 3. Iteration Structure\n",
    "Python has two main looping constructs `for` and `while`, `for` loops operate on ranges of data, `while` loops repeat while a condition is met.\n",
    "### 3.1 `for` loops\n",
    "#### for + list, tuple, dictionary, string"
   ]
  },
  {
   "cell_type": "code",
   "execution_count": 46,
   "id": "206ac642",
   "metadata": {},
   "outputs": [
    {
     "name": "stdout",
     "output_type": "stream",
     "text": [
      "1\n",
      "2\n",
      "3\n",
      "4\n",
      "5\n",
      "5\n",
      "4\n"
     ]
    }
   ],
   "source": [
    "lst = [1,2,3,4,5,5,4]\n",
    "for item in lst:\n",
    "    print(item)"
   ]
  },
  {
   "cell_type": "code",
   "execution_count": 47,
   "id": "47d68476-008a-41e4-8ede-ce40a94aa89e",
   "metadata": {},
   "outputs": [
    {
     "name": "stdout",
     "output_type": "stream",
     "text": [
      "1\n",
      "2\n",
      "3\n",
      "4\n",
      "5\n",
      "5\n",
      "4\n"
     ]
    }
   ],
   "source": [
    "tup = (1,2,3,4,5,5,4)\n",
    "for item in tup:\n",
    "    print(item)"
   ]
  },
  {
   "cell_type": "code",
   "execution_count": 48,
   "id": "a33b239d-61f0-4218-b1e6-1062c3cc394b",
   "metadata": {},
   "outputs": [
    {
     "name": "stdout",
     "output_type": "stream",
     "text": [
      "1\n",
      "2\n",
      "3\n",
      "4\n",
      "5\n"
     ]
    }
   ],
   "source": [
    "st = {1,2,3,4,5,5,4}\n",
    "for item in st:\n",
    "    print(item)"
   ]
  },
  {
   "cell_type": "code",
   "execution_count": 49,
   "id": "1f3905ea-ddb5-4f69-aefe-f95a23f3ea0e",
   "metadata": {},
   "outputs": [
    {
     "name": "stdout",
     "output_type": "stream",
     "text": [
      "name equals to mehdi\n",
      "lastname equals to almousavi\n",
      "id equals to 5602288\n"
     ]
    }
   ],
   "source": [
    "dct = {\n",
    "    \"name\":\"mehdi\",\n",
    "    \"lastname\":\"almousavi\",\n",
    "    \"id\":5602288\n",
    "    }\n",
    "for  key,value in dct.items():\n",
    "    print(f\"{key} equals to {value}\")"
   ]
  },
  {
   "cell_type": "markdown",
   "id": "990ab64f",
   "metadata": {},
   "source": [
    "#### for + range(start, stop, step)"
   ]
  },
  {
   "cell_type": "code",
   "execution_count": 50,
   "id": "9c3e632c",
   "metadata": {},
   "outputs": [
    {
     "name": "stdout",
     "output_type": "stream",
     "text": [
      "100,95,90,85,80,75,70,65,60,55,50,45,40,35,30,25,20,15,10,5,"
     ]
    }
   ],
   "source": [
    "for i in range (100,0,-5):\n",
    "    print(i,end=\",\")"
   ]
  },
  {
   "cell_type": "markdown",
   "id": "ff5e9ea6",
   "metadata": {},
   "source": [
    "#### Exercise 6. Could you design a script to draw a triangle?"
   ]
  },
  {
   "cell_type": "code",
   "execution_count": 51,
   "id": "9aef4db7",
   "metadata": {},
   "outputs": [
    {
     "name": "stdout",
     "output_type": "stream",
     "text": [
      "     \n",
      "    * \n",
      "   * * \n",
      "  * * * \n",
      " * * * * \n"
     ]
    }
   ],
   "source": [
    "num = 5\n",
    "for i in range (num):\n",
    "    print((num-i)*\" \",end=\"\")\n",
    "    print((i)*\"* \")"
   ]
  },
  {
   "cell_type": "markdown",
   "id": "5b657573",
   "metadata": {},
   "source": [
    "#### Exercise 7. Could you design a script to calculate the sum of the first N terms of the sequence\n",
    "$$1 + \\frac{1}{2} + \\frac{1}{3} + ...+\\frac{1}{n}$$"
   ]
  },
  {
   "cell_type": "code",
   "execution_count": 67,
   "id": "640c0fb1",
   "metadata": {},
   "outputs": [
    {
     "name": "stdout",
     "output_type": "stream",
     "text": [
      "2.083333333333333\n"
     ]
    }
   ],
   "source": [
    "n = int(input(\"enter a value of n :\"))\n",
    "sum = 0\n",
    "for i in range(1,n):\n",
    "    sum += (1/i)\n",
    "print(sum)"
   ]
  },
  {
   "cell_type": "markdown",
   "id": "5c944576",
   "metadata": {},
   "source": [
    "#### Exercise 8. A daffodil number is a positive integer whose sum of the cubes in each bit equals itself. Could you design a script to output all the daffodils in the range of (0, 1000)."
   ]
  },
  {
   "cell_type": "code",
   "execution_count": 53,
   "id": "7645f755",
   "metadata": {},
   "outputs": [
    {
     "name": "stdout",
     "output_type": "stream",
     "text": [
      "0 is a daffodil number\n",
      "1 is a daffodil number\n",
      "153 is a daffodil number\n",
      "370 is a daffodil number\n",
      "371 is a daffodil number\n",
      "407 is a daffodil number\n"
     ]
    }
   ],
   "source": [
    "for n in range (1000):\n",
    "    i= (n//100)\n",
    "    j= (n//10%10)\n",
    "    k= (n%10)\n",
    "    if ((i**3 + j**3 + k**3 ) == n):\n",
    "        print (f\"{n} is a daffodil number\")"
   ]
  },
  {
   "cell_type": "markdown",
   "id": "3a8f96f1",
   "metadata": {},
   "source": [
    "#### Exercise 9. Could you design a script to output all prime numbers between 1 and 100."
   ]
  },
  {
   "cell_type": "code",
   "execution_count": 54,
   "id": "52f8ac78",
   "metadata": {},
   "outputs": [
    {
     "name": "stdout",
     "output_type": "stream",
     "text": [
      "2 is a prime number\n",
      "3 is a prime number\n",
      "5 is a prime number\n",
      "7 is a prime number\n",
      "11 is a prime number\n",
      "13 is a prime number\n",
      "17 is a prime number\n",
      "19 is a prime number\n",
      "23 is a prime number\n",
      "29 is a prime number\n",
      "31 is a prime number\n",
      "37 is a prime number\n",
      "41 is a prime number\n",
      "43 is a prime number\n",
      "47 is a prime number\n",
      "53 is a prime number\n",
      "59 is a prime number\n",
      "61 is a prime number\n",
      "67 is a prime number\n",
      "71 is a prime number\n",
      "73 is a prime number\n",
      "79 is a prime number\n",
      "83 is a prime number\n",
      "89 is a prime number\n",
      "97 is a prime number\n"
     ]
    }
   ],
   "source": [
    "for i in range (1,100):\n",
    "    n = 0\n",
    "    for j in  range (1,i+1):\n",
    "       if i%j == 0 :\n",
    "           n += 1\n",
    "    if n == 2 :\n",
    "        print (f\"{i} is a prime number\")"
   ]
  },
  {
   "cell_type": "markdown",
   "id": "50b3804d",
   "metadata": {},
   "source": [
    "### 3.2 `while` loop\n",
    "#### while + condition"
   ]
  },
  {
   "cell_type": "code",
   "execution_count": 55,
   "id": "4d96de79",
   "metadata": {},
   "outputs": [
    {
     "name": "stdout",
     "output_type": "stream",
     "text": [
      "0\n",
      "1\n",
      "2\n",
      "3\n",
      "4\n"
     ]
    }
   ],
   "source": [
    "i=0\n",
    "while (i<5):\n",
    "    print (i)\n",
    "    i += 1"
   ]
  },
  {
   "cell_type": "markdown",
   "id": "f67a606a",
   "metadata": {},
   "source": [
    "## 4. List\n",
    "Lists are used to store multiple items in a single variable.\n",
    "\n",
    "### 4.1 Defining a list\n",
    "#### Manually input:"
   ]
  },
  {
   "cell_type": "code",
   "execution_count": 56,
   "id": "7f58fb8e",
   "metadata": {},
   "outputs": [
    {
     "name": "stdout",
     "output_type": "stream",
     "text": [
      "[1, 2.14, 'jj', 4, [1, 2, 3]]\n"
     ]
    }
   ],
   "source": [
    "lst = [1,2.14,\"jj\",4,[1,2,3]]\n",
    "print (lst)"
   ]
  },
  {
   "cell_type": "markdown",
   "id": "930e867a",
   "metadata": {},
   "source": [
    "#### Append method:"
   ]
  },
  {
   "cell_type": "code",
   "execution_count": 57,
   "id": "7f22f88d",
   "metadata": {},
   "outputs": [
    {
     "name": "stdout",
     "output_type": "stream",
     "text": [
      "[1, 2.14, 'jj', 4, [1, 2, 3], 2525]\n"
     ]
    }
   ],
   "source": [
    "lst.append(2525)\n",
    "print(lst)"
   ]
  },
  {
   "cell_type": "markdown",
   "id": "0580f670",
   "metadata": {},
   "source": [
    "#### For loop method:"
   ]
  },
  {
   "cell_type": "code",
   "execution_count": 58,
   "id": "a0ddf57f",
   "metadata": {},
   "outputs": [
    {
     "name": "stdout",
     "output_type": "stream",
     "text": [
      "1\n",
      "2.14\n",
      "jj\n",
      "4\n",
      "[1, 2, 3]\n",
      "2525\n"
     ]
    }
   ],
   "source": [
    "for itm in lst:\n",
    "    print (itm)"
   ]
  },
  {
   "cell_type": "markdown",
   "id": "3b93ffa4",
   "metadata": {},
   "source": [
    "#### `list()` method"
   ]
  },
  {
   "cell_type": "code",
   "execution_count": 59,
   "id": "2f5187d3",
   "metadata": {},
   "outputs": [
    {
     "name": "stdout",
     "output_type": "stream",
     "text": [
      "[5, 6, 8, 4, 1, 3, -2, 3.14, 'hello']\n"
     ]
    }
   ],
   "source": [
    "lst = list((5,6,8,4,1,3,-2,3.14,\"hello\"))\n",
    "print (lst)"
   ]
  },
  {
   "cell_type": "markdown",
   "id": "17057516",
   "metadata": {},
   "source": [
    "### 4.2 List Methods\n",
    "#### Access list items"
   ]
  },
  {
   "cell_type": "code",
   "execution_count": 60,
   "id": "04b34f9a",
   "metadata": {},
   "outputs": [
    {
     "name": "stdout",
     "output_type": "stream",
     "text": [
      "3\n"
     ]
    }
   ],
   "source": [
    "print(lst[5])"
   ]
  },
  {
   "cell_type": "markdown",
   "id": "968b4878",
   "metadata": {},
   "source": [
    "#### Change items"
   ]
  },
  {
   "cell_type": "code",
   "execution_count": 61,
   "id": "1c8c65e5",
   "metadata": {},
   "outputs": [
    {
     "name": "stdout",
     "output_type": "stream",
     "text": [
      "700\n"
     ]
    }
   ],
   "source": [
    "lst[5] = 700\n",
    "print(lst[5])"
   ]
  },
  {
   "cell_type": "markdown",
   "id": "e2ef5c4f",
   "metadata": {},
   "source": [
    "#### Add items"
   ]
  },
  {
   "cell_type": "code",
   "execution_count": 62,
   "id": "ff71c522",
   "metadata": {},
   "outputs": [
    {
     "name": "stdout",
     "output_type": "stream",
     "text": [
      "[5, 6, 8, 4, 1, 700, -2, 3.14, 'hello', 2020]\n"
     ]
    }
   ],
   "source": [
    "lst.append(2020)\n",
    "print(lst)"
   ]
  },
  {
   "cell_type": "markdown",
   "id": "54de530a",
   "metadata": {},
   "source": [
    "#### Remove items"
   ]
  },
  {
   "cell_type": "code",
   "execution_count": 63,
   "id": "a0e32bea",
   "metadata": {},
   "outputs": [
    {
     "name": "stdout",
     "output_type": "stream",
     "text": [
      "[5, 6, 8, 4, 1, 700, -2, 3.14, 2020]\n"
     ]
    }
   ],
   "source": [
    "lst.remove(\"hello\")\n",
    "print(lst)"
   ]
  },
  {
   "cell_type": "markdown",
   "id": "71013527",
   "metadata": {},
   "source": [
    "#### Sort list"
   ]
  },
  {
   "cell_type": "code",
   "execution_count": 64,
   "id": "e5cf4986",
   "metadata": {},
   "outputs": [
    {
     "name": "stdout",
     "output_type": "stream",
     "text": [
      "[-2, 1, 3.14, 4, 5, 6, 8, 700, 2020]\n"
     ]
    }
   ],
   "source": [
    "#lst.sort()\n",
    "#print(lst)\n",
    "print(sorted(lst))"
   ]
  },
  {
   "cell_type": "markdown",
   "id": "bb34f143",
   "metadata": {},
   "source": [
    "#### Exercise 10. Given a list, could you write a Python program to swap first and last element of the list?"
   ]
  },
  {
   "cell_type": "code",
   "execution_count": 68,
   "id": "2bf67606",
   "metadata": {},
   "outputs": [
    {
     "name": "stdout",
     "output_type": "stream",
     "text": [
      "[5, 6, 8, 4, 1, 700, -2, 3.14, 2020]\n",
      "[2020, 6, 8, 4, 1, 700, -2, 3.14, 5]\n"
     ]
    }
   ],
   "source": [
    "print (lst)\n",
    "lst[-1] , lst[0] = lst[0] , lst[-1]\n",
    "print (lst)"
   ]
  },
  {
   "cell_type": "markdown",
   "id": "98f654da",
   "metadata": {},
   "source": [
    "#### Exercise 11. Could you design a script to remove words in `test_list` which are composite of certain letters in `char_list`."
   ]
  },
  {
   "cell_type": "code",
   "execution_count": 81,
   "id": "45643398",
   "metadata": {},
   "outputs": [
    {
     "name": "stdout",
     "output_type": "stream",
     "text": [
      "['are too diverse', 'by any particular architectural style']\n"
     ]
    }
   ],
   "source": [
    "char_list = [\"s\",\"a\",\"m\"]\n",
    "test_list = [\"Buildings in London\", \"are too diverse\", \"to be characterised\", \"by any particular architectural style\"]\n",
    "for itm in test_list:\n",
    "    for chr in char_list:\n",
    "        if (chr in itm):\n",
    "            test_list.remove(itm)\n",
    "            break\n",
    "print (test_list)"
   ]
  },
  {
   "cell_type": "markdown",
   "id": "88c9ea0f",
   "metadata": {},
   "source": [
    "#### Exercise 12. Could you design a script to separate the following list into words?\n",
    "`test_list = [\"Buildings in London\", \"are too diverse\", \"to be characterised\", \"by any particular architectural style\"]`"
   ]
  },
  {
   "cell_type": "code",
   "execution_count": 91,
   "id": "e49c2033",
   "metadata": {},
   "outputs": [
    {
     "name": "stdout",
     "output_type": "stream",
     "text": [
      "['Buildings', 'in', 'London', 'are', 'too', 'diverse', 'to', 'be', 'characterised', 'by', 'any', 'particular', 'architectural']\n"
     ]
    }
   ],
   "source": [
    "test_list = [\"Buildings in London\", \"are too diverse\", \"to be characterised\", \"by any particular architectural style\"]\n",
    "w_list = []\n",
    "string =\"\"\n",
    "for itm in test_list:\n",
    "    w_list.append(string)\n",
    "    string =\"\"\n",
    "    for w in itm:\n",
    "        if w == \" \":\n",
    "            w_list.append(string)\n",
    "            string =\"\"\n",
    "        else:\n",
    "            string += w\n",
    "w_list.remove(\"\") \n",
    "print (w_list)"
   ]
  },
  {
   "cell_type": "markdown",
   "id": "fb6de9fa",
   "metadata": {},
   "source": [
    "#### Exercise 13. Could you design a script to separate the following list into characters?\n",
    "`test_list = [\"Buildings in London\", \"are too diverse\", \"to be characterised\", \"by any particular architectural style\"]`"
   ]
  },
  {
   "cell_type": "code",
   "execution_count": 92,
   "id": "a9129a1e",
   "metadata": {},
   "outputs": [
    {
     "name": "stdout",
     "output_type": "stream",
     "text": [
      "['B', 'u', 'i', 'l', 'd', 'i', 'n', 'g', 's', ' ', 'i', 'n', ' ', 'L', 'o', 'n', 'd', 'o', 'n', 'a', 'r', 'e', ' ', 't', 'o', 'o', ' ', 'd', 'i', 'v', 'e', 'r', 's', 'e', 't', 'o', ' ', 'b', 'e', ' ', 'c', 'h', 'a', 'r', 'a', 'c', 't', 'e', 'r', 'i', 's', 'e', 'd', 'b', 'y', ' ', 'a', 'n', 'y', ' ', 'p', 'a', 'r', 't', 'i', 'c', 'u', 'l', 'a', 'r', ' ', 'a', 'r', 'c', 'h', 'i', 't', 'e', 'c', 't', 'u', 'r', 'a', 'l', ' ', 's', 't', 'y', 'l', 'e']\n"
     ]
    }
   ],
   "source": [
    "test_list = [\"Buildings in London\", \"are too diverse\", \"to be characterised\", \"by any particular architectural style\"]\n",
    "w_list = []\n",
    "\n",
    "for itm in test_list:\n",
    "    for chr in itm:\n",
    "        w_list.append(chr)\n",
    "print(w_list)"
   ]
  },
  {
   "cell_type": "markdown",
   "id": "898780b1",
   "metadata": {},
   "source": [
    "#### Exercise 14. Given a List, could you design a script to extract all elements whose frequency is greater than K."
   ]
  },
  {
   "cell_type": "code",
   "execution_count": 93,
   "id": "9a524fb3",
   "metadata": {},
   "outputs": [
    {
     "name": "stdout",
     "output_type": "stream",
     "text": [
      "[10, 10, 11, 20, 69]\n"
     ]
    }
   ],
   "source": [
    "lst = [4,5,-8,10,-9,0,10,11,20,5,69,-7,3]\n",
    "k = 10\n",
    "lst.sort()\n",
    "for i in range(len(lst)):\n",
    "    if k <= lst[i]:\n",
    "        lst_2 = lst[i:]\n",
    "        break\n",
    "print(lst_2)"
   ]
  }
 ],
 "metadata": {
  "kernelspec": {
   "display_name": "Python 3 (ipykernel)",
   "language": "python",
   "name": "python3"
  },
  "language_info": {
   "codemirror_mode": {
    "name": "ipython",
    "version": 3
   },
   "file_extension": ".py",
   "mimetype": "text/x-python",
   "name": "python",
   "nbconvert_exporter": "python",
   "pygments_lexer": "ipython3",
   "version": "3.11.4"
  }
 },
 "nbformat": 4,
 "nbformat_minor": 5
}
