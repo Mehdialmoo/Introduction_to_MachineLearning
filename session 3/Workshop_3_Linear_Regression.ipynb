{
  "cells": [
    {
      "cell_type": "markdown",
      "id": "UnO-naJUd5am",
      "metadata": {
        "id": "UnO-naJUd5am"
      },
      "source": [
        "# Workshop 3: Linear Regression"
      ]
    },
    {
      "cell_type": "markdown",
      "id": "LhvkFq4ueFB7",
      "metadata": {
        "id": "LhvkFq4ueFB7"
      },
      "source": [
        "## 1. Matplotlib"
      ]
    },
    {
      "cell_type": "markdown",
      "id": "867f4235",
      "metadata": {
        "id": "867f4235"
      },
      "source": [
        "Matplotlib is a comprehensive library for creating static, animated, and interactive visualizations in Python."
      ]
    },
    {
      "cell_type": "code",
      "execution_count": 1,
      "id": "b370ee0b",
      "metadata": {
        "id": "b370ee0b"
      },
      "outputs": [],
      "source": [
        "#pip install matplotlib"
      ]
    },
    {
      "cell_type": "markdown",
      "id": "5MvhSjaWeS-I",
      "metadata": {
        "id": "5MvhSjaWeS-I"
      },
      "source": [
        "### 1.1 Plotting a line: Two Point Method"
      ]
    },
    {
      "cell_type": "code",
      "execution_count": 2,
      "id": "96f7f4e2",
      "metadata": {
        "id": "96f7f4e2"
      },
      "outputs": [],
      "source": [
        "import matplotlib.pyplot as plt"
      ]
    },
    {
      "cell_type": "code",
      "execution_count": 3,
      "id": "6af7874c",
      "metadata": {
        "colab": {
          "base_uri": "https://localhost:8080/",
          "height": 391
        },
        "id": "6af7874c",
        "outputId": "001566b1-0c0b-48b1-ae8c-290aed4f60a9"
      },
      "outputs": [
        {
          "data": {
            "text/plain": [
              "[<matplotlib.lines.Line2D at 0x13e48fb3a50>]"
            ]
          },
          "execution_count": 3,
          "metadata": {},
          "output_type": "execute_result"
        },
        {
          "data": {
            "image/png": "[encoded data removed]",
            "text/plain": [
              "<Figure size 400x400 with 1 Axes>"
            ]
          },
          "metadata": {},
          "output_type": "display_data"
        }
      ],
      "source": [
        "X = [3,8]\n",
        "Y = [4,1]\n",
        "\n",
        "#points be  like ((3,4),(8,1))\n",
        "\n",
        "X_2 = [1,3]\n",
        "Y_2 = [2,1]\n",
        "\n",
        "#points be  like ((1,2),(3,1))\n",
        "\n",
        "plt.figure(figsize=[4,4])\n",
        "#plt.axis(\"equal\")\n",
        "\n",
        "plt.xlim(0,10)\n",
        "plt.ylim(0,10)\n",
        "\n",
        "plt.plot(X,Y)\n",
        "plt.plot(X_2,Y_2)"
      ]
    },
    {
      "cell_type": "markdown",
      "id": "o05m8f8AedC7",
      "metadata": {
        "id": "o05m8f8AedC7"
      },
      "source": [
        "### 1.2 Plotting a line: Slope and Bias Method"
      ]
    },
    {
      "cell_type": "code",
      "execution_count": 4,
      "id": "a543a12a",
      "metadata": {
        "colab": {
          "base_uri": "https://localhost:8080/",
          "height": 391
        },
        "id": "a543a12a",
        "outputId": "03dc679e-4cbd-48e9-b0cb-689338f131db"
      },
      "outputs": [
        {
          "data": {
            "text/plain": [
              "[<matplotlib.lines.Line2D at 0x13e4b06c7d0>]"
            ]
          },
          "execution_count": 4,
          "metadata": {},
          "output_type": "execute_result"
        },
        {
          "data": {
            "image/png": "[encoded data removed]",
            "text/plain": [
              "<Figure size 400x400 with 1 Axes>"
            ]
          },
          "metadata": {},
          "output_type": "display_data"
        }
      ],
      "source": [
        "slope = 2\n",
        "bias = 1\n",
        "\n",
        "plt.figure(figsize=[4,4])\n",
        "plt.xlim(0,10)\n",
        "plt.ylim(0,10)\n",
        "\n",
        "X_3 = [0,10]\n",
        "Y_3 = []\n",
        "for i in X_3:\n",
        "    Y_3.append(i*slope+bias)\n",
        "\n",
        "plt.plot(X_3,Y_3)"
      ]
    },
    {
      "cell_type": "markdown",
      "id": "rRgfbX3eep9b",
      "metadata": {
        "id": "rRgfbX3eep9b"
      },
      "source": [
        "### 1.3 Scatter Points"
      ]
    },
    {
      "cell_type": "code",
      "execution_count": 5,
      "id": "da65461c",
      "metadata": {
        "colab": {
          "base_uri": "https://localhost:8080/",
          "height": 391
        },
        "id": "da65461c",
        "outputId": "42314f10-88f5-4039-94c4-229bcffce5a9"
      },
      "outputs": [
        {
          "data": {
            "text/plain": [
              "<matplotlib.collections.PathCollection at 0x13e49008710>"
            ]
          },
          "execution_count": 5,
          "metadata": {},
          "output_type": "execute_result"
        },
        {
          "data": {
            "image/png": "[encoded data removed]",
            "text/plain": [
              "<Figure size 400x400 with 1 Axes>"
            ]
          },
          "metadata": {},
          "output_type": "display_data"
        }
      ],
      "source": [
        "slope = 1\n",
        "bias = 0\n",
        "\n",
        "plt.figure(figsize=[4,4])\n",
        "plt.xlim(0,10)\n",
        "plt.ylim(0,10)\n",
        "\n",
        "x_1 = [i for i in range(0,11)]\n",
        "x_2 = []\n",
        "for i in x_1:\n",
        "    x_2.append(i*slope+bias)\n",
        "\n",
        "plt.scatter(x_1,x_2)"
      ]
    },
    {
      "cell_type": "markdown",
      "id": "zFkSUd-efD9L",
      "metadata": {
        "id": "zFkSUd-efD9L"
      },
      "source": [
        "## 2. Linear Regression"
      ]
    },
    {
      "cell_type": "markdown",
      "id": "V-XvkktUfXvO",
      "metadata": {
        "id": "V-XvkktUfXvO"
      },
      "source": [
        "### 2.1 Show samples in figure"
      ]
    },
    {
      "cell_type": "markdown",
      "id": "44WtCFNwetzP",
      "metadata": {
        "id": "44WtCFNwetzP"
      },
      "source": [
        "#### Exercise 1. Could you collate the following list into the format of X and y?"
      ]
    },
    {
      "cell_type": "code",
      "execution_count": 6,
      "id": "a4de1079",
      "metadata": {
        "id": "a4de1079"
      },
      "outputs": [],
      "source": [
        "Raw_data = [6.1101,  17.5920,\n",
        "            5.5277,  9.1302,\n",
        "            8.5186,  13.6620,\n",
        "            3.2365,  6.4421,\n",
        "            7.0032,  11.8540,\n",
        "            5.8598,  6.8233,\n",
        "            10.9003,  19.7968,\n",
        "            12.1108, 20.9464,\n",
        "            2.3355, 4.6102,\n",
        "            3.4547, 5,\n",
        "            3.1109, 6.0091,\n",
        "            3.5789, 7.0903,\n",
        "            5.2067, 10.9897,\n",
        "            1.1234, 3.0006,\n",
        "            1.1518, 3.2035,\n",
        "            2.2224, 5.0007,\n",
        "            4.6728, 9.7832,\n",
        "            3.3398, 7.2893,\n",
        "            6.1718, 13.1452,\n",
        "            13.1409, 28.2882,\n",
        "            11.1112, 23.0405,\n",
        "            5.1122, 12.3039,\n",
        "            7.2135, 16.0088]"
      ]
    },
    {
      "cell_type": "code",
      "execution_count": 7,
      "id": "f7cbf798",
      "metadata": {
        "colab": {
          "base_uri": "https://localhost:8080/"
        },
        "id": "f7cbf798",
        "outputId": "a7b5d5e6-4e46-4d54-9e34-85682f7bff4b"
      },
      "outputs": [
        {
          "name": "stdout",
          "output_type": "stream",
          "text": [
            " x = [6.1101, 5.5277, 8.5186, 3.2365, 7.0032, 5.8598, 10.9003, 12.1108, 2.3355, 3.4547, 3.1109, 3.5789, 5.2067, 1.1234, 1.1518, 2.2224, 4.6728, 3.3398, 6.1718, 13.1409, 11.1112, 5.1122, 7.2135] \n",
            " y = [17.592, 9.1302, 13.662, 6.4421, 11.854, 6.8233, 19.7968, 20.9464, 4.6102, 5, 6.0091, 7.0903, 10.9897, 3.0006, 3.2035, 5.0007, 9.7832, 7.2893, 13.1452, 28.2882, 23.0405, 12.3039, 16.0088]\n"
          ]
        }
      ],
      "source": [
        "X_RD = Raw_data[::2]\n",
        "Y_RD = Raw_data[1::2]\n",
        "\n",
        "print(f\" x = {X_RD} \\n y = {Y_RD}\")"
      ]
    },
    {
      "cell_type": "code",
      "execution_count": 8,
      "id": "de7fe6ac",
      "metadata": {
        "colab": {
          "base_uri": "https://localhost:8080/",
          "height": 447
        },
        "id": "de7fe6ac",
        "outputId": "a3d44b81-3a3b-412a-8adb-c577c4799d3d"
      },
      "outputs": [
        {
          "data": {
            "text/plain": [
              "<matplotlib.collections.PathCollection at 0x13e48fe8710>"
            ]
          },
          "execution_count": 8,
          "metadata": {},
          "output_type": "execute_result"
        },
        {
          "data": {
            "image/png": "[encoded data removed]",
            "text/plain": [
              "<Figure size 640x480 with 1 Axes>"
            ]
          },
          "metadata": {},
          "output_type": "display_data"
        }
      ],
      "source": [
        "plt.scatter(x = X_RD, y = Y_RD)"
      ]
    },
    {
      "cell_type": "markdown",
      "id": "e3b6d95a",
      "metadata": {
        "id": "e3b6d95a"
      },
      "source": [
        "#### Exercise 2. Could you plot a line whose slope=1 and bias=0 based on the figure above?"
      ]
    },
    {
      "cell_type": "code",
      "execution_count": 9,
      "id": "7897083e",
      "metadata": {
        "colab": {
          "base_uri": "https://localhost:8080/",
          "height": 391
        },
        "id": "7897083e",
        "outputId": "7ba07fee-b95a-4e1a-bd78-b8418c59cab9"
      },
      "outputs": [
        {
          "data": {
            "text/plain": [
              "[<matplotlib.lines.Line2D at 0x13e4b10fed0>]"
            ]
          },
          "execution_count": 9,
          "metadata": {},
          "output_type": "execute_result"
        },
        {
          "data": {
            "image/png": "[encoded data removed]",
            "text/plain": [
              "<Figure size 400x400 with 1 Axes>"
            ]
          },
          "metadata": {},
          "output_type": "display_data"
        }
      ],
      "source": [
        "slope = 1\n",
        "bias = 0\n",
        "\n",
        "plt.figure(figsize=[4,4])\n",
        "plt.xlim(0,20)\n",
        "plt.ylim(0,20)\n",
        "\n",
        "y_pred = []\n",
        "for i in X_RD:\n",
        "    y_pred.append(i*slope+bias)\n",
        "\n",
        "plt.scatter(x = X_RD, y = Y_RD) #dots\n",
        "plt.plot(X_RD,y_pred,c=\"red\") #line"
      ]
    },
    {
      "cell_type": "markdown",
      "id": "ZTnusJGlfiCb",
      "metadata": {
        "id": "ZTnusJGlfiCb"
      },
      "source": [
        "### 2.2 Calculate the loss\n",
        "Here we will compute the cost function and code that into Python. Cost function is given by\n",
        "$$\n",
        "J\\left(\\theta_0, \\theta_1\\right)=\\frac{1}{2 m} \\sum_{i=1}^m\\left(h_\\theta\\left(x_i\\right)-y_i\\right)^2\n",
        "$$\n",
        "Where $h_\\theta(x_i) = \\theta_1 x_i + \\theta_0$"
      ]
    },
    {
      "cell_type": "code",
      "execution_count": 10,
      "id": "59a76ea7",
      "metadata": {
        "colab": {
          "base_uri": "https://localhost:8080/"
        },
        "id": "59a76ea7",
        "outputId": "e990f23f-b12c-42e0-92a2-83f07f8eb93b"
      },
      "outputs": [
        {
          "name": "stdout",
          "output_type": "stream",
          "text": [
            "loss = 1031.5734920100003\n"
          ]
        }
      ],
      "source": [
        "y_sub = []\n",
        "m = (len(Y_RD))\n",
        "for i in range(m):\n",
        "    y_sub.append((y_pred[i] - Y_RD[i])**2)\n",
        "\n",
        "#loss = ((1/(2*m))*(sum(y_sub)))\n",
        "loss = sum(y_sub)\n",
        "print(f\"loss = {loss}\")\n",
        "# we usually don't calculate the 1/2m and we only calculate the sigma"
      ]
    },
    {
      "cell_type": "markdown",
      "id": "f1c02510",
      "metadata": {
        "id": "f1c02510"
      },
      "source": [
        "#### 2.2.1 Plot the loss curve when bias is fixed."
      ]
    },
    {
      "cell_type": "code",
      "execution_count": 11,
      "id": "6c64f8f0",
      "metadata": {
        "colab": {
          "base_uri": "https://localhost:8080/",
          "height": 427
        },
        "id": "6c64f8f0",
        "outputId": "937b0f1c-360d-4ea1-dc57-58934f529691"
      },
      "outputs": [
        {
          "data": {
            "text/plain": [
              "[<matplotlib.lines.Line2D at 0x13e4b233990>]"
            ]
          },
          "execution_count": 11,
          "metadata": {},
          "output_type": "execute_result"
        },
        {
          "data": {
            "image/png": "[encoded data removed]",
            "text/plain": [
              "<Figure size 400x400 with 1 Axes>"
            ]
          },
          "metadata": {},
          "output_type": "display_data"
        }
      ],
      "source": [
        "slope_list = [i*0.1 for i in range(0,100)] # 0.1,0.2,0.3,0.4,...\n",
        "bias = 0\n",
        "\n",
        "plt.figure(figsize=[4,4])\n",
        "plt.xlim(0,5)\n",
        "plt.ylim(0,15)\n",
        "\n",
        "plt.title(\"Loss Curve\")\n",
        "plt.xlabel(\"Slope\")\n",
        "plt.ylabel(\"Loss\")\n",
        "\n",
        "slope_loss_list=[]\n",
        "for slope in slope_list:\n",
        "    y_pred = []\n",
        "    for i in X_RD:\n",
        "        y_pred.append(i*slope+bias)\n",
        "\n",
        "    y_sub = []\n",
        "    for i in range(len(Y_RD)):\n",
        "        y_sub.append((y_pred[i] - Y_RD[i])**2)\n",
        "    slope_loss_list.append(sum(y_sub)/2/len(Y_RD))\n",
        "\n",
        "plt.plot(slope_list,slope_loss_list)"
      ]
    },
    {
      "cell_type": "markdown",
      "id": "6a318632",
      "metadata": {
        "id": "6a318632"
      },
      "source": [
        "#### Exercise 3. Could you plot the loss curve when slope is fixed?"
      ]
    },
    {
      "cell_type": "code",
      "execution_count": 12,
      "id": "d5ca8332",
      "metadata": {
        "colab": {
          "base_uri": "https://localhost:8080/",
          "height": 427
        },
        "id": "d5ca8332",
        "outputId": "c8ee7041-90e1-4aae-cb3b-1c8d19e18eed"
      },
      "outputs": [
        {
          "data": {
            "text/plain": [
              "[<matplotlib.lines.Line2D at 0x13e4b27a850>]"
            ]
          },
          "execution_count": 12,
          "metadata": {},
          "output_type": "execute_result"
        },
        {
          "data": {
            "image/png": "[encoded data removed]",
            "text/plain": [
              "<Figure size 400x400 with 1 Axes>"
            ]
          },
          "metadata": {},
          "output_type": "display_data"
        }
      ],
      "source": [
        "slope = 1\n",
        "bias_list = [i*0.1 for i in range(100)]\n",
        "\n",
        "plt.figure(figsize=[4,4])\n",
        "plt.xlim(0,10)\n",
        "plt.ylim(0,1000)\n",
        "\n",
        "plt.title(\"Loss Curve\")\n",
        "plt.xlabel(\"Bias\")\n",
        "plt.ylabel(\"Loss\")\n",
        "\n",
        "bias_loss_list=[]\n",
        "for bias in bias_list:\n",
        "    y_pred = []\n",
        "    for i in X_RD:\n",
        "        y_pred.append(i*slope+bias)\n",
        "\n",
        "    y_sub = []\n",
        "    for i in range(len(Y_RD)):\n",
        "        y_sub.append((y_pred[i] - Y_RD[i])**2)\n",
        "    bias_loss_list.append(sum(y_sub))\n",
        "\n",
        "plt.plot(slope_list,bias_loss_list)"
      ]
    },
    {
      "cell_type": "markdown",
      "id": "uDCmttLnmvQg",
      "metadata": {
        "id": "uDCmttLnmvQg"
      },
      "source": [
        "### 2.3 Gradient Descent\n",
        "\n",
        "$$\n",
        "\\begin{aligned}\n",
        "\\theta_0 &:=\\theta_0-\\alpha \\frac{1}{m} \\sum_{i=1}^m\\left[\\left(h_\\theta\\left(x_i\\right)-y_i\\right) x_i^{(0)}\\right] \\\\\n",
        "\\theta_1 &:=\\theta_1-\\alpha \\frac{1}{m} \\sum_{i=1}^m\\left[\\left(h_{\\theta}\\left(x_i\\right)-y_i\\right) x_i^{(1)}\\right]\n",
        "\\end{aligned}\n",
        "$$"
      ]
    },
    {
      "cell_type": "code",
      "execution_count": 13,
      "id": "PrE7_jxrmxmx",
      "metadata": {
        "colab": {
          "base_uri": "https://localhost:8080/"
        },
        "id": "PrE7_jxrmxmx",
        "outputId": "d8ecd518-93da-43b4-ec5d-eb415d5568c0"
      },
      "outputs": [
        {
          "name": "stdout",
          "output_type": "stream",
          "text": [
            "[[1.4599847826086956, 4.654569047347826], [1.290094408067675, 4.168997977424817], [1.2664211450162561, 4.715762317849524], [1.2016798173330134, 5.053179361176876], [1.1404127745676806, 5.483665876130028], [1.0713159070837908, 5.9383184414509955], [0.9964735164985922, 6.437958946997371], [0.914689572783261, 6.982199247516099], [0.8254943878960874, 7.576176919708986], [0.7281745122117135, 8.224158611271164], [0.6219999516484954, 8.931121404021516], [0.5061626346929597, 9.702417776883692], [0.37978375482207916, 10.54390596847744], [0.24190385593881797, 11.4619728492732], [0.09147632989338092, 12.463587602116498], [0.07264071615461024, 13.556353373714087], [0.25169308254642087, 14.748565290768342], [0.4470399448004237, 16.049273355277236], [0.6601641684069699, 17.468351159967675], [0.8926835657964552, 19.016570833910325], [1.1463631768986633, 20.705684814075823], [1.4231286674849786, 22.548515057092043], [1.7250809467658124, 24.55905036995871]]\n",
            "[0.07264071615461024, 13.556353373714087]\n"
          ]
        }
      ],
      "source": [
        "m = (len(Y_RD))\n",
        "loss_list = []\n",
        "slope = 1\n",
        "bias  = 1\n",
        "alpha = 0.1\n",
        "\n",
        "loss_lst = []\n",
        "\n",
        "for counter in range (m):\n",
        "\n",
        "  y_sub   = []\n",
        "  y_sub_1 = []\n",
        "  y_pred  = []\n",
        "  for itm in X_RD:\n",
        "      y_pred.append(itm*slope+bias)\n",
        "  for i in range(m):\n",
        "    y_sub.append((y_pred[i] - Y_RD[i]))\n",
        "    y_sub_1.append((y_pred[i] - Y_RD[i])*(X_RD[i]))\n",
        "\n",
        "  slope  -= (alpha/(m))*(sum(y_sub))\n",
        "  bias -=  (alpha/(m))*(sum(y_sub_1))\n",
        "\n",
        "  #slope  -= (sum(y_sub))\n",
        "  #bias -=   (sum(y_sub_1))\n",
        "\n",
        "\n",
        "  loss_lst.append([abs(slope),abs(bias)])\n",
        "\n",
        "print (loss_lst)\n",
        "print (min(loss_lst))"
      ]
    }
  ],
  "metadata": {
    "colab": {
      "provenance": []
    },
    "kernelspec": {
      "display_name": "Python 3 (ipykernel)",
      "language": "python",
      "name": "python3"
    },
    "language_info": {
      "codemirror_mode": {
        "name": "ipython",
        "version": 3
      },
      "file_extension": ".py",
      "mimetype": "text/x-python",
      "name": "python",
      "nbconvert_exporter": "python",
      "pygments_lexer": "ipython3",
      "version": "3.11.4"
    }
  },
  "nbformat": 4,
  "nbformat_minor": 5
}
