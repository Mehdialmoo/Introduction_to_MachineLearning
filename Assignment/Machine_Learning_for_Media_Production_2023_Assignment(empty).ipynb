{
 "cells": [
  {
   "attachments": {},
   "cell_type": "markdown",
   "id": "2ac0f612",
   "metadata": {},
   "source": [
    "# Assignment List (100 marks)\n",
    "**Make sure you excute every cell in order, and reserve the outputs of every cell.**\n",
    "1. Python Programming. (20 marks)\n",
    "2. Linear Regression. (28 marks)\n",
    "3. Classification. (52 marks)\n",
    "\n",
    "<span style=\"color:red\">**Deadline: 12:00 Noon, 15/01/2024**<span>\n",
    "\n",
    "**Submit a rar/zip folder to Brightspace under the unit of Machine Learning for Media Production**"
   ]
  },
  {
   "attachments": {},
   "cell_type": "markdown",
   "id": "4cd098fe",
   "metadata": {},
   "source": [
    "## Part 1. Python Programming (20 marks)\n",
    "\n",
    "<span style=\"color:red\">**Note: The code you design needs to be generalizable to all test samples.**<span>"
   ]
  },
  {
   "attachments": {},
   "cell_type": "markdown",
   "id": "bb6c6873",
   "metadata": {},
   "source": [
    "### Question 1. Change Password (6 marks)\n",
    "#### Given a string `password` and a positive integer `n`, could you design a script to move the first `n` characters of `password` to the end of the string in the same order as before? e.g.,\n",
    "`Input: password=\"Bournemouth_University\", n=6`\n",
    "\n",
    "`Output: \"mouth_UniversityBourne\"`"
   ]
  },
  {
   "cell_type": "code",
   "execution_count": 15,
   "id": "37834cda",
   "metadata": {},
   "outputs": [
    {
     "name": "stdout",
     "output_type": "stream",
     "text": [
      "mouth_UniversityBourne\n"
     ]
    }
   ],
   "source": [
    "password=\"Bournemouth_University\" #This can be modified to any string you like\n",
    "n=6                               #This can be modified to any integer you like\n",
    "\n",
    "# <<<<<<<<<<<<<<< Fill in your code below this line >>>>>>>>>>>>>>>>>\n",
    "temp = password[:n]\n",
    "new_password = password[n:]\n",
    "new_password += temp \n",
    "\n",
    "# <<<<<<<<<<<<<<<<<<<<<<<<< End of code >>>>>>>>>>>>>>>>>>>>>>>>>>>>>\n",
    "\n",
    "print(new_password)"
   ]
  },
  {
   "attachments": {},
   "cell_type": "markdown",
   "id": "b86e39f6",
   "metadata": {},
   "source": [
    "### Question 2. Daffodil Numbers (8 marks)\n",
    "#### A daffodil number is a positive integer whose sum of the cubes in each bit equals itself. Could you design a script to output all the daffodils numbers in the range of [0, 1000). e.g.,\n",
    "\n",
    "$$ 1^3 + 5^3 +3^3 = 153$$"
   ]
  },
  {
   "cell_type": "code",
   "execution_count": 18,
   "id": "0c364db2",
   "metadata": {},
   "outputs": [
    {
     "name": "stdout",
     "output_type": "stream",
     "text": [
      "[0, 1, 153, 370, 371, 407]\n"
     ]
    }
   ],
   "source": [
    "daffodil_list = []\n",
    "list = [x for x in range (1000)] # Initialize the list used to store daffodil numbers.\n",
    "\n",
    "# <<<<<<<<<<<<<<< Fill in your code below this line >>>>>>>>>>>>>>>>>\n",
    "\n",
    "def is_daffodil(num):  # Function that checks if a number is a daffodil number or not.\n",
    "    sum = 0\n",
    "    new = str(num)\n",
    "    for  i in new:\n",
    "        sum += int(i)**3\n",
    "    if num == sum:\n",
    "        return True\n",
    "    else:\n",
    "        return False\n",
    "\n",
    "for itm in list:\n",
    "    if is_daffodil(itm) == True:\n",
    "        daffodil_list.append(itm)\n",
    "\n",
    "# <<<<<<<<<<<<<<<<<<<<<<<<< End of code >>>>>>>>>>>>>>>>>>>>>>>>>>>>>\n",
    "        \n",
    "print(daffodil_list)"
   ]
  },
  {
   "attachments": {},
   "cell_type": "markdown",
   "id": "7b6a5196",
   "metadata": {},
   "source": [
    "### Question 3. Maximum Perimeter of Triangles (6 marks)\n",
    "#### Given an list of positive numbers (representing lengths), could you design a script to return the maximum perimeter of a triangle consisting of three of those lengths. If no triangles can be formed, return 0. \n",
    "\n",
    "<span style=\"color:red\">**The condition that a triangle can be formed: the sum of any two edges of the triangle is greater than the third edge.</span>*\n",
    "\n",
    "e.g.,\n",
    "\n",
    "`Input: nums=[3,1,2,2,1]`\n",
    "`Output: 7`\n",
    "\n",
    "`Input: nums=[1,2,1,10]`\n",
    "`Output: 0`"
   ]
  },
  {
   "cell_type": "code",
   "execution_count": 17,
   "id": "a37aa623",
   "metadata": {},
   "outputs": [
    {
     "ename": "NameError",
     "evalue": "name 'result' is not defined",
     "output_type": "error",
     "traceback": [
      "\u001b[0;31m---------------------------------------------------------------------------\u001b[0m",
      "\u001b[0;31mNameError\u001b[0m                                 Traceback (most recent call last)",
      "Cell \u001b[0;32mIn[17], line 9\u001b[0m\n\u001b[1;32m      1\u001b[0m nums\u001b[39m=\u001b[39m[\u001b[39m1\u001b[39m,\u001b[39m2\u001b[39m,\u001b[39m1\u001b[39m,\u001b[39m10\u001b[39m] \u001b[39m#This can be modified to any length you like\u001b[39;00m\n\u001b[1;32m      3\u001b[0m \u001b[39m# <<<<<<<<<<<<<<< Fill in your code below this line >>>>>>>>>>>>>>>>>\u001b[39;00m\n\u001b[1;32m      4\u001b[0m \n\u001b[1;32m      5\u001b[0m \n\u001b[1;32m      6\u001b[0m \n\u001b[1;32m      7\u001b[0m \u001b[39m# <<<<<<<<<<<<<<<<<<<<<<<<< End of code >>>>>>>>>>>>>>>>>>>>>>>>>>>>>\u001b[39;00m\n\u001b[0;32m----> 9\u001b[0m \u001b[39mprint\u001b[39m(result)\n",
      "\u001b[0;31mNameError\u001b[0m: name 'result' is not defined"
     ]
    }
   ],
   "source": [
    "nums=[1,2,1,10] #This can be modified to any length you like\n",
    "\n",
    "# <<<<<<<<<<<<<<< Fill in your code below this line >>>>>>>>>>>>>>>>>\n",
    "def  traingle_shaper(lst):\n",
    "    for i in lst:\n",
    "        for j in (i+1, len(lst)):\n",
    "        for k in (i+1, len(lst)):\n",
    "\n",
    "def is_valid_triangle(a, b, c):\n",
    "    if a + b > c and a + c > b and b + c > a:\n",
    "        return True\n",
    "    else:\n",
    "        return False\n",
    "\n",
    "def main():\n",
    "    print(\"Please enter 3 numbers:\")\n",
    "    a = int(input(\"a: \"))\n",
    "    b = int(input(\"b: \"))\n",
    "    c = int(input(\"c: \"))\n",
    "\n",
    "    if is_valid_triangle(a, b, c):\n",
    "        print(\"These 3 numbers can form a triangle.\")\n",
    "    else:\n",
    "        print(\"These 3 numbers cannot form a triangle.\")\n",
    "\n",
    "if __name__ == \"__main__\":\n",
    "    main()            \n",
    "\n",
    "# <<<<<<<<<<<<<<<<<<<<<<<<< End of code >>>>>>>>>>>>>>>>>>>>>>>>>>>>>\n",
    "\n",
    "print(result)"
   ]
  },
  {
   "attachments": {},
   "cell_type": "markdown",
   "id": "173a6ea4",
   "metadata": {},
   "source": [
    "## Part 2. Linear Regression (28 marks)"
   ]
  },
  {
   "attachments": {},
   "cell_type": "markdown",
   "id": "17ac4834",
   "metadata": {},
   "source": [
    "### Task 1. Split Dataset (6 marks)"
   ]
  },
  {
   "cell_type": "code",
   "execution_count": null,
   "id": "6e30dd42",
   "metadata": {},
   "outputs": [],
   "source": [
    "def  traingle_shaper(lst):\n",
    "    for i in lst:\n",
    "        for j in (i+1, len(lst)):\n",
    "        for k in (i+1, len(lst)):\n",
    "import pandas as pd\n",
    "import numpy as np\n",
    "import matplotlib.pyplot as plt\n",
    "\n",
    "data_df = pd.read_csv(\"Salary_dataset.csv\") # Import the Salary dataset.\n",
    "X = data_df[\"YearsExperience\"].to_numpy()   # Separate data into features and labels\n",
    "y = data_df[\"Salary\"].to_numpy()\n",
    "\n",
    "theta = np.array([1000.0,1000.0]) # Initialize the weights\n",
    "\n",
    "\n",
    "X_0 = ......       # Create a Numpy array X_0 with all elements of 1.\n",
    "X = ......         # Merge it with the original feature into a new feature.\n",
    "                   # X should have the shape (30, 2) ------ (4 marks)\n",
    "\n",
    "    \n",
    "# Divide the dataset into training and test data in a ratio of 2:1 (2 marks)\n",
    "train_X, train_y = X[...], y[...] \n",
    "test_X, test_y = X[...], y[...]"
   ]
  },
  {
   "attachments": {},
   "cell_type": "markdown",
   "id": "0142655d",
   "metadata": {},
   "source": [
    "### Task 2. Initialization and Plotting (6 marks)"
   ]
  },
  {
   "cell_type": "code",
   "execution_count": null,
   "id": "cb853d7c",
   "metadata": {},
   "outputs": [],
   "source": [
    "y_pred = ......    # Calculate y_pred based on training feature and weights (2 marks)\n",
    "\n",
    "plt.figure(figsize=[14,4])\n",
    "\n",
    "plt.subplot(1,2,1)\n",
    "plt.title(\"Train Samples\")\n",
    "plt.xlabel(\"Years of Experience\")\n",
    "plt.ylabel(\"Salary\")\n",
    "plt.scatter(..., ...)        # Draw the training samples in the figure (1 mark)   \n",
    "plt.plot(..., ..., c=\"red\")  # Draw the initialized line in the figure (2 mark)\n",
    "\n",
    "\n",
    "plt.subplot(1,2,2)\n",
    "plt.title(\"Test Samples\")\n",
    "plt.xlabel(\"Years of Experience\")\n",
    "plt.ylabel(\"Salary\")\n",
    "plt.scatter(..., ...)  # Draw the test samples in the figure (1 mark)"
   ]
  },
  {
   "attachments": {},
   "cell_type": "markdown",
   "id": "0dddd296",
   "metadata": {},
   "source": [
    "### Task 3. Gradient Descent (6 marks)"
   ]
  },
  {
   "cell_type": "code",
   "execution_count": null,
   "id": "3343c253",
   "metadata": {},
   "outputs": [],
   "source": [
    "alpha=0.0001         # Initialize the learning rate        \n",
    "train_loss_list=[]   # Initialize the train loss list  \n",
    "test_loss_list=[]    # Initialize the test loss list   \n",
    "\n",
    "for iteration in range(500):\n",
    "    \n",
    "    y_pred = ......       # Calculate y_pred for each iteration (1 mark)\n",
    "    train_loss = ......   # Calculate the training loss for each iteration (1 mark)\n",
    "    train_loss_list.append(train_loss)\n",
    "    \n",
    "    y_test_pred = ......  # Calculate y_test_pred for each iteration (1 mark)\n",
    "    test_loss = ......    # Calculate the test loss for each iteration (1 mark)\n",
    "    test_loss_list.append(test_loss)\n",
    "    \n",
    "    theta = ......        # Update the weights using Gradient Descent (2 marks)"
   ]
  },
  {
   "attachments": {},
   "cell_type": "markdown",
   "id": "075a50c8",
   "metadata": {},
   "source": [
    "### Task 4. Result Plotting (6 marks)"
   ]
  },
  {
   "cell_type": "code",
   "execution_count": null,
   "id": "4cb19229",
   "metadata": {},
   "outputs": [],
   "source": [
    "plt.figure(figsize=[14,4])\n",
    "\n",
    "plt.subplot(1,2,1)\n",
    "plt.title(\"Train Samples\")\n",
    "plt.xlabel(\"Years of Experience\")\n",
    "plt.ylabel(\"Salary\")\n",
    "plt.scatter(..., ...)        # Draw the training samples in the figure (1 mark)\n",
    "plt.plot(..., ..., c=\"red\")  # Draw the optimalized line in the figure (1 mark)\n",
    "\n",
    "plt.subplot(1,2,2)\n",
    "plt.title(\"Training and test loss\")\n",
    "plt.xlabel(\"Iteration\")\n",
    "plt.ylabel(\"Loss\")\n",
    "plt.plot(......)   # Draw the training loss curve in the figure (2 marks)\n",
    "plt.plot(......)   # Draw the test loss curve in the figure (2 marks)\n",
    "plt.legend()"
   ]
  },
  {
   "attachments": {},
   "cell_type": "markdown",
   "id": "70449cc9",
   "metadata": {},
   "source": [
    "### Task 5. Result Analysis (4 marks)\n",
    "#### What can you find from the plotted results above? Any improvements you think could be made to the above code?"
   ]
  },
  {
   "cell_type": "code",
   "execution_count": null,
   "id": "307aa6cb",
   "metadata": {},
   "outputs": [],
   "source": []
  },
  {
   "attachments": {},
   "cell_type": "markdown",
   "id": "b13eaa44",
   "metadata": {},
   "source": [
    "## Part 3. Classification (52 marks)"
   ]
  },
  {
   "attachments": {},
   "cell_type": "markdown",
   "id": "df5f1329",
   "metadata": {},
   "source": [
    "### Task 1. Dataset Split and Plotting (6 marks)"
   ]
  },
  {
   "cell_type": "code",
   "execution_count": null,
   "id": "4bacc903",
   "metadata": {},
   "outputs": [],
   "source": [
    "import numpy as np \n",
    "import matplotlib.pyplot as plt\n",
    "from sklearn.datasets import make_classification\n",
    "\n",
    "x, y = make_classification(n_samples = 1000, n_features=2, n_redundant=0, \n",
    "                           n_informative=1, n_clusters_per_class=1,random_state=2)\n",
    "X = np.concatenate((np.ones((x.shape[0],1)), x),axis=1)\n",
    "\n",
    "# Divide the dataset into training and test data in a ratio of 7:3 (2 marks)\n",
    "train_X, train_y = X[...], y[...]\n",
    "test_X, test_y = X[...], y[...]\n",
    "\n",
    "\n",
    "#Plot train and test samples\n",
    "plt.figure(figsize=[10,4])\n",
    "\n",
    "plt.subplot(1,2,1)\n",
    "plt.title(\"Train Samples\")\n",
    "plt.xlabel(\"Feature 1\")\n",
    "plt.ylabel(\"Feature 2\")\n",
    "plt.scatter(..., ..., ...) # Draw the training samples in the figure with color (2 marks)\n",
    "\n",
    "plt.subplot(1,2,2)\n",
    "plt.title(\"Test Samples\")\n",
    "plt.xlabel(\"Feature 1\")\n",
    "plt.ylabel(\"Feature 2\")\n",
    "plt.scatter(..., ..., ...) # Draw the test samples in the figure with color (2 marks)"
   ]
  },
  {
   "attachments": {},
   "cell_type": "markdown",
   "id": "0a72eeb5",
   "metadata": {},
   "source": [
    "### Task 2. Logistic Regression (14 marks)"
   ]
  },
  {
   "cell_type": "code",
   "execution_count": null,
   "id": "daec74fe",
   "metadata": {},
   "outputs": [],
   "source": [
    "theta = np.array([[1.0],    # Initialize the weights\n",
    "                  [2.0],\n",
    "                  [1.0]])\n",
    "\n",
    "train_y = train_y.reshape(-1,1)\n",
    "test_y = test_y.reshape(-1,1)\n",
    "\n",
    "alpha = 0.0001            # Initialize the learning rate\n",
    "train_loss_list_1 = []    # Initialize the training loss list\n",
    "test_loss_list_1 = []     # Initialize the test loss list\n",
    "train_acc_list_1 = []     # Initialize the training accuracy list\n",
    "test_acc_list_1 = []      # Initialize the test accuracy list\n",
    "\n",
    "for epoch in range(2000):\n",
    "    \n",
    "    # Calculate the Linear Summation & Sigmoid Function (4 marks)\n",
    "    z = ...\n",
    "    a = ...\n",
    "\n",
    "    # Calculate the training loss of each iteration (2 marks)\n",
    "    train_loss = ......\n",
    "    train_loss_list_1.append(train_loss)\n",
    "    \n",
    "    # Calculate the training accuracy of each iteration (2 marks)\n",
    "    train_pred_list=[]\n",
    "    for i in a:\n",
    "        if(......):\n",
    "            train_pred_list.append(1)\n",
    "        else:\n",
    "            train_pred_list.append(0)\n",
    "    count=0\n",
    "    for i in (np.array(train_pred_list)-train_y.reshape(-1)):\n",
    "        if(......):\n",
    "            count+=1\n",
    "    train_acc_list_1.append(......)\n",
    "    \n",
    "    # Calculate the test loss of each iteration (2 marks)\n",
    "    test_z = ......\n",
    "    test_a = .......\n",
    "    test_loss = ......\n",
    "    test_loss_list_1.append(test_loss)\n",
    "    \n",
    "    # Calculate the test accuracy of each iteration (2 marks)\n",
    "    test_pred_list=[]\n",
    "    for i in test_a:\n",
    "        if(......):\n",
    "            test_pred_list.append(1)\n",
    "        else:\n",
    "            test_pred_list.append(0)\n",
    "    count=0\n",
    "    for i in (np.array(test_pred_list)-test_y.reshape(-1)):\n",
    "        if(......):\n",
    "            count+=1\n",
    "    test_acc_list_1.append(......)\n",
    "    \n",
    "    # Update the weights using Gradient Descent (2 marks)\n",
    "    theta = ......"
   ]
  },
  {
   "attachments": {},
   "cell_type": "markdown",
   "id": "179503fd",
   "metadata": {},
   "source": [
    "### Task 3. Neural Network (20 marks)\n",
    "<span style=\"color:blue\">**Here we use a neural network (MLP) with three nodes in the input layer, two nodes in the hidden layer and one node in the output layer, and Sigmoid function for the activation function.</span>*"
   ]
  },
  {
   "cell_type": "code",
   "execution_count": null,
   "id": "4e1371d9",
   "metadata": {},
   "outputs": [],
   "source": [
    "theta_1 = np.array([[1.0,0.0],   # Initialize the weights\n",
    "                    [1.0,0.0],\n",
    "                    [1.0,0.0]])\n",
    "theta_2 = np.array([[1.0],\n",
    "                    [0.0]])\n",
    "train_y = train_y.reshape(-1,1)\n",
    "test_y = test_y.reshape(-1,1)\n",
    "\n",
    "alpha = 0.0001              # Initialize the learning rate\n",
    "train_loss_list_2 = []      # Initialize the training loss list\n",
    "test_loss_list_2 = []       # Initialize the test loss list\n",
    "train_acc_list_2 = []       # Initialize the training accuracy list\n",
    "test_acc_list_2 = []        # Initialize the test accuracy list\n",
    "\n",
    "for epoch in range(2000):\n",
    "    </span>\n",
    "    # Forward Propagation (8 marks)\n",
    "    z_1 = ...\n",
    "    h_1 = ...\n",
    "    z_2 = ...\n",
    "    h_2 = ...\n",
    "    \n",
    "    # Calculate the training loss of each iteration (2 marks)\n",
    "    train_loss = ......\n",
    "    train_loss_list_2.append(train_loss)\n",
    "    \n",
    "    # Calculate the training accuracy of each iteration (2 marks)\n",
    "    train_pred_list=[]\n",
    "    for i in ......:\n",
    "        if(......):\n",
    "            train_pred_list.append(1)\n",
    "        else:\n",
    "            train_pred_list.append(0)\n",
    "    count=0\n",
    "    for i in (np.array(train_pred_list)-train_y.reshape(-1)):\n",
    "        if(......):\n",
    "            count+=1\n",
    "    train_acc_list_2.append(......)\n",
    "    \n",
    "    # Calculate the test loss of each iteration (2 marks)\n",
    "    test_z_1 = ...\n",
    "    test_h_1 = ...\n",
    "    test_z_2 = ...\n",
    "    test_h_2 = ...\n",
    "    test_loss = ...\n",
    "    test_loss_list_2.append(test_loss)\n",
    "    \n",
    "    # Calculate the test accuracy of each iteration (2 marks)\n",
    "    test_pred_list=[]\n",
    "    for i in ......:\n",
    "        if(......):\n",
    "            test_pred_list.append(1)\n",
    "        else:\n",
    "            test_pred_list.append(0)\n",
    "    count=0\n",
    "    for i in (np.array(test_pred_list)-test_y.reshape(-1)):\n",
    "        if(......):\n",
    "            count+=1\n",
    "    test_acc_list_2.append(......)\n",
    "    \n",
    "    # Backward Propagation (4 marks)\n",
    "    theta_2 = ......\n",
    "    theta_1 = ......"
   ]
  },
  {
   "attachments": {},
   "cell_type": "markdown",
   "id": "7fa91de5",
   "metadata": {},
   "source": [
    "### Task 4. Result Plotting (8 marks)"
   ]
  },
  {
   "cell_type": "code",
   "execution_count": null,
   "id": "06e368ff",
   "metadata": {},
   "outputs": [],
   "source": [
    "plt.figure(figsize=[12,12])\n",
    "\n",
    "# Draw the training accuracy curve of the two classifiers in the figure (2 marks)\n",
    "plt.subplot(......) \n",
    "plt.title(\"Train Accuracy\")\n",
    "plt.xlabel(\"Epochs\")\n",
    "plt.ylabel(\"Accuracy\")\n",
    "plt.plot(......)\n",
    "plt.plot(......)\n",
    "plt.legend()\n",
    "\n",
    "# Draw the test accuracy curve of the two classifiers in the figure (2 marks)\n",
    "plt.subplot(......) \n",
    "plt.title(\"Test Accuracy\")\n",
    "plt.xlabel(\"Epochs\")\n",
    "plt.ylabel(\"Accuracy\")\n",
    "plt.plot(......)\n",
    "plt.plot(......)\n",
    "plt.legend()\n",
    "\n",
    "# Draw the training loss curve of the two classifiers in the figure (2 marks)\n",
    "plt.subplot(......) \n",
    "plt.title(\"Train Loss\")\n",
    "plt.xlabel(\"Epochs\")\n",
    "plt.ylabel(\"Loss\")\n",
    "plt.plot(......)\n",
    "plt.plot(......)\n",
    "plt.legend()\n",
    "\n",
    "# Draw the test loss curve of the two classifiers in the figure (2 marks)\n",
    "plt.subplot(......) \n",
    "plt.title(\"Test Loss\")\n",
    "plt.xlabel(\"Epochs\")\n",
    "plt.ylabel(\"Loss\")\n",
    "plt.plot(......)\n",
    "plt.plot(......)\n",
    "plt.legend()"
   ]
  },
  {
   "attachments": {},
   "cell_type": "markdown",
   "id": "eca6fe5f",
   "metadata": {},
   "source": [
    "### Task 5. Principle Analysis (4 marks)\n",
    "#### Could you explain the principles of Gradient Descent and Backward Propagation based on your understanding? "
   ]
  },
  {
   "cell_type": "code",
   "execution_count": null,
   "id": "daa7d977",
   "metadata": {},
   "outputs": [],
   "source": []
  }
 ],
 "metadata": {
  "kernelspec": {
   "display_name": "Python 3 (ipykernel)",
   "language": "python",
   "name": "python3"
  },
  "language_info": {
   "codemirror_mode": {
    "name": "ipython",
    "version": 3
   },
   "file_extension": ".py",
   "mimetype": "text/x-python",
   "name": "python",
   "nbconvert_exporter": "python",
   "pygments_lexer": "ipython3",
   "version": "3.11.4"
  }
 },
 "nbformat": 4,
 "nbformat_minor": 5
}
